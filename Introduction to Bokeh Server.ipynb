{
 "cells": [
  {
   "cell_type": "markdown",
   "metadata": {},
   "source": [
    "## Introduction to Bokeh Server\n",
    "\n",
    "Bokeh is a python interactive visulization libary that is capable of running on modern browsers. <br>\n",
    "\n",
    "Bokeh Server provides additional capabilities like: <br>\n",
    "\n",
    "1) Create Interactive Dashboards  <br>\n",
    "2) Create deployable Web Applications <br>\n",
    "3) Create Visualizations on Streaming data <br>\n",
    "4) Create Layouts to arrange Plots & Widgets <br>"
   ]
  },
  {
   "cell_type": "markdown",
   "metadata": {},
   "source": [
    "### Laying out Plots and Widgets\n",
    "\n",
    "Bokeh includes several layout options for arranging plots and widgets. \n",
    "There are three layout functions row(), column(), and widgetbox()."
   ]
  },
  {
   "cell_type": "code",
   "execution_count": 1,
   "metadata": {},
   "outputs": [
    {
     "data": {
      "text/html": [
       "\n",
       "    <div class=\"bk-root\">\n",
       "        <a href=\"https://bokeh.pydata.org\" target=\"_blank\" class=\"bk-logo bk-logo-small bk-logo-notebook\"></a>\n",
       "        <span id=\"263937ef-6dd6-4d6f-932d-f030c3ee122d\">Loading BokehJS ...</span>\n",
       "    </div>"
      ]
     },
     "metadata": {},
     "output_type": "display_data"
    },
    {
     "data": {
      "application/javascript": [
       "\n",
       "(function(root) {\n",
       "  function now() {\n",
       "    return new Date();\n",
       "  }\n",
       "\n",
       "  var force = true;\n",
       "\n",
       "  if (typeof (root._bokeh_onload_callbacks) === \"undefined\" || force === true) {\n",
       "    root._bokeh_onload_callbacks = [];\n",
       "    root._bokeh_is_loading = undefined;\n",
       "  }\n",
       "\n",
       "  var JS_MIME_TYPE = 'application/javascript';\n",
       "  var HTML_MIME_TYPE = 'text/html';\n",
       "  var EXEC_MIME_TYPE = 'application/vnd.bokehjs_exec.v0+json';\n",
       "  var CLASS_NAME = 'output_bokeh rendered_html';\n",
       "\n",
       "  /**\n",
       "   * Render data to the DOM node\n",
       "   */\n",
       "  function render(props, node) {\n",
       "    var script = document.createElement(\"script\");\n",
       "    node.appendChild(script);\n",
       "  }\n",
       "\n",
       "  /**\n",
       "   * Handle when an output is cleared or removed\n",
       "   */\n",
       "  function handleClearOutput(event, handle) {\n",
       "    var cell = handle.cell;\n",
       "\n",
       "    var id = cell.output_area._bokeh_element_id;\n",
       "    var server_id = cell.output_area._bokeh_server_id;\n",
       "    // Clean up Bokeh references\n",
       "    if (id !== undefined) {\n",
       "      Bokeh.index[id].model.document.clear();\n",
       "      delete Bokeh.index[id];\n",
       "    }\n",
       "\n",
       "    if (server_id !== undefined) {\n",
       "      // Clean up Bokeh references\n",
       "      var cmd = \"from bokeh.io.state import curstate; print(curstate().uuid_to_server['\" + server_id + \"'].get_sessions()[0].document.roots[0]._id)\";\n",
       "      cell.notebook.kernel.execute(cmd, {\n",
       "        iopub: {\n",
       "          output: function(msg) {\n",
       "            var element_id = msg.content.text.trim();\n",
       "            Bokeh.index[element_id].model.document.clear();\n",
       "            delete Bokeh.index[element_id];\n",
       "          }\n",
       "        }\n",
       "      });\n",
       "      // Destroy server and session\n",
       "      var cmd = \"import bokeh.io.notebook as ion; ion.destroy_server('\" + server_id + \"')\";\n",
       "      cell.notebook.kernel.execute(cmd);\n",
       "    }\n",
       "  }\n",
       "\n",
       "  /**\n",
       "   * Handle when a new output is added\n",
       "   */\n",
       "  function handleAddOutput(event, handle) {\n",
       "    var output_area = handle.output_area;\n",
       "    var output = handle.output;\n",
       "\n",
       "    // limit handleAddOutput to display_data with EXEC_MIME_TYPE content only\n",
       "    if ((output.output_type != \"display_data\") || (!output.data.hasOwnProperty(EXEC_MIME_TYPE))) {\n",
       "      return\n",
       "    }\n",
       "\n",
       "    var toinsert = output_area.element.find(`.${CLASS_NAME.split(' ')[0]}`);\n",
       "\n",
       "    if (output.metadata[EXEC_MIME_TYPE][\"id\"] !== undefined) {\n",
       "      toinsert[0].firstChild.textContent = output.data[JS_MIME_TYPE];\n",
       "      // store reference to embed id on output_area\n",
       "      output_area._bokeh_element_id = output.metadata[EXEC_MIME_TYPE][\"id\"];\n",
       "    }\n",
       "    if (output.metadata[EXEC_MIME_TYPE][\"server_id\"] !== undefined) {\n",
       "      var bk_div = document.createElement(\"div\");\n",
       "      bk_div.innerHTML = output.data[HTML_MIME_TYPE];\n",
       "      var script_attrs = bk_div.children[0].attributes;\n",
       "      for (var i = 0; i < script_attrs.length; i++) {\n",
       "        toinsert[0].firstChild.setAttribute(script_attrs[i].name, script_attrs[i].value);\n",
       "      }\n",
       "      // store reference to server id on output_area\n",
       "      output_area._bokeh_server_id = output.metadata[EXEC_MIME_TYPE][\"server_id\"];\n",
       "    }\n",
       "  }\n",
       "\n",
       "  function register_renderer(events, OutputArea) {\n",
       "\n",
       "    function append_mime(data, metadata, element) {\n",
       "      // create a DOM node to render to\n",
       "      var toinsert = this.create_output_subarea(\n",
       "        metadata,\n",
       "        CLASS_NAME,\n",
       "        EXEC_MIME_TYPE\n",
       "      );\n",
       "      this.keyboard_manager.register_events(toinsert);\n",
       "      // Render to node\n",
       "      var props = {data: data, metadata: metadata[EXEC_MIME_TYPE]};\n",
       "      render(props, toinsert[0]);\n",
       "      element.append(toinsert);\n",
       "      return toinsert\n",
       "    }\n",
       "\n",
       "    /* Handle when an output is cleared or removed */\n",
       "    events.on('clear_output.CodeCell', handleClearOutput);\n",
       "    events.on('delete.Cell', handleClearOutput);\n",
       "\n",
       "    /* Handle when a new output is added */\n",
       "    events.on('output_added.OutputArea', handleAddOutput);\n",
       "\n",
       "    /**\n",
       "     * Register the mime type and append_mime function with output_area\n",
       "     */\n",
       "    OutputArea.prototype.register_mime_type(EXEC_MIME_TYPE, append_mime, {\n",
       "      /* Is output safe? */\n",
       "      safe: true,\n",
       "      /* Index of renderer in `output_area.display_order` */\n",
       "      index: 0\n",
       "    });\n",
       "  }\n",
       "\n",
       "  // register the mime type if in Jupyter Notebook environment and previously unregistered\n",
       "  if (root.Jupyter !== undefined) {\n",
       "    var events = require('base/js/events');\n",
       "    var OutputArea = require('notebook/js/outputarea').OutputArea;\n",
       "\n",
       "    if (OutputArea.prototype.mime_types().indexOf(EXEC_MIME_TYPE) == -1) {\n",
       "      register_renderer(events, OutputArea);\n",
       "    }\n",
       "  }\n",
       "\n",
       "  \n",
       "  if (typeof (root._bokeh_timeout) === \"undefined\" || force === true) {\n",
       "    root._bokeh_timeout = Date.now() + 5000;\n",
       "    root._bokeh_failed_load = false;\n",
       "  }\n",
       "\n",
       "  var NB_LOAD_WARNING = {'data': {'text/html':\n",
       "     \"<div style='background-color: #fdd'>\\n\"+\n",
       "     \"<p>\\n\"+\n",
       "     \"BokehJS does not appear to have successfully loaded. If loading BokehJS from CDN, this \\n\"+\n",
       "     \"may be due to a slow or bad network connection. Possible fixes:\\n\"+\n",
       "     \"</p>\\n\"+\n",
       "     \"<ul>\\n\"+\n",
       "     \"<li>re-rerun `output_notebook()` to attempt to load from CDN again, or</li>\\n\"+\n",
       "     \"<li>use INLINE resources instead, as so:</li>\\n\"+\n",
       "     \"</ul>\\n\"+\n",
       "     \"<code>\\n\"+\n",
       "     \"from bokeh.resources import INLINE\\n\"+\n",
       "     \"output_notebook(resources=INLINE)\\n\"+\n",
       "     \"</code>\\n\"+\n",
       "     \"</div>\"}};\n",
       "\n",
       "  function display_loaded() {\n",
       "    var el = document.getElementById(\"263937ef-6dd6-4d6f-932d-f030c3ee122d\");\n",
       "    if (el != null) {\n",
       "      el.textContent = \"BokehJS is loading...\";\n",
       "    }\n",
       "    if (root.Bokeh !== undefined) {\n",
       "      if (el != null) {\n",
       "        el.textContent = \"BokehJS \" + root.Bokeh.version + \" successfully loaded.\";\n",
       "      }\n",
       "    } else if (Date.now() < root._bokeh_timeout) {\n",
       "      setTimeout(display_loaded, 100)\n",
       "    }\n",
       "  }\n",
       "\n",
       "\n",
       "  function run_callbacks() {\n",
       "    try {\n",
       "      root._bokeh_onload_callbacks.forEach(function(callback) { callback() });\n",
       "    }\n",
       "    finally {\n",
       "      delete root._bokeh_onload_callbacks\n",
       "    }\n",
       "    console.info(\"Bokeh: all callbacks have finished\");\n",
       "  }\n",
       "\n",
       "  function load_libs(js_urls, callback) {\n",
       "    root._bokeh_onload_callbacks.push(callback);\n",
       "    if (root._bokeh_is_loading > 0) {\n",
       "      console.log(\"Bokeh: BokehJS is being loaded, scheduling callback at\", now());\n",
       "      return null;\n",
       "    }\n",
       "    if (js_urls == null || js_urls.length === 0) {\n",
       "      run_callbacks();\n",
       "      return null;\n",
       "    }\n",
       "    console.log(\"Bokeh: BokehJS not loaded, scheduling load and callback at\", now());\n",
       "    root._bokeh_is_loading = js_urls.length;\n",
       "    for (var i = 0; i < js_urls.length; i++) {\n",
       "      var url = js_urls[i];\n",
       "      var s = document.createElement('script');\n",
       "      s.src = url;\n",
       "      s.async = false;\n",
       "      s.onreadystatechange = s.onload = function() {\n",
       "        root._bokeh_is_loading--;\n",
       "        if (root._bokeh_is_loading === 0) {\n",
       "          console.log(\"Bokeh: all BokehJS libraries loaded\");\n",
       "          run_callbacks()\n",
       "        }\n",
       "      };\n",
       "      s.onerror = function() {\n",
       "        console.warn(\"failed to load library \" + url);\n",
       "      };\n",
       "      console.log(\"Bokeh: injecting script tag for BokehJS library: \", url);\n",
       "      document.getElementsByTagName(\"head\")[0].appendChild(s);\n",
       "    }\n",
       "  };var element = document.getElementById(\"263937ef-6dd6-4d6f-932d-f030c3ee122d\");\n",
       "  if (element == null) {\n",
       "    console.log(\"Bokeh: ERROR: autoload.js configured with elementid '263937ef-6dd6-4d6f-932d-f030c3ee122d' but no matching script tag was found. \")\n",
       "    return false;\n",
       "  }\n",
       "\n",
       "  var js_urls = [\"https://cdn.pydata.org/bokeh/release/bokeh-0.12.10.min.js\", \"https://cdn.pydata.org/bokeh/release/bokeh-widgets-0.12.10.min.js\", \"https://cdn.pydata.org/bokeh/release/bokeh-tables-0.12.10.min.js\", \"https://cdn.pydata.org/bokeh/release/bokeh-gl-0.12.10.min.js\"];\n",
       "\n",
       "  var inline_js = [\n",
       "    function(Bokeh) {\n",
       "      Bokeh.set_log_level(\"info\");\n",
       "    },\n",
       "    \n",
       "    function(Bokeh) {\n",
       "      \n",
       "    },\n",
       "    function(Bokeh) {\n",
       "      console.log(\"Bokeh: injecting CSS: https://cdn.pydata.org/bokeh/release/bokeh-0.12.10.min.css\");\n",
       "      Bokeh.embed.inject_css(\"https://cdn.pydata.org/bokeh/release/bokeh-0.12.10.min.css\");\n",
       "      console.log(\"Bokeh: injecting CSS: https://cdn.pydata.org/bokeh/release/bokeh-widgets-0.12.10.min.css\");\n",
       "      Bokeh.embed.inject_css(\"https://cdn.pydata.org/bokeh/release/bokeh-widgets-0.12.10.min.css\");\n",
       "      console.log(\"Bokeh: injecting CSS: https://cdn.pydata.org/bokeh/release/bokeh-tables-0.12.10.min.css\");\n",
       "      Bokeh.embed.inject_css(\"https://cdn.pydata.org/bokeh/release/bokeh-tables-0.12.10.min.css\");\n",
       "    }\n",
       "  ];\n",
       "\n",
       "  function run_inline_js() {\n",
       "    \n",
       "    if ((root.Bokeh !== undefined) || (force === true)) {\n",
       "      for (var i = 0; i < inline_js.length; i++) {\n",
       "        inline_js[i].call(root, root.Bokeh);\n",
       "      }if (force === true) {\n",
       "        display_loaded();\n",
       "      }} else if (Date.now() < root._bokeh_timeout) {\n",
       "      setTimeout(run_inline_js, 100);\n",
       "    } else if (!root._bokeh_failed_load) {\n",
       "      console.log(\"Bokeh: BokehJS failed to load within specified timeout.\");\n",
       "      root._bokeh_failed_load = true;\n",
       "    } else if (force !== true) {\n",
       "      var cell = $(document.getElementById(\"263937ef-6dd6-4d6f-932d-f030c3ee122d\")).parents('.cell').data().cell;\n",
       "      cell.output_area.append_execute_result(NB_LOAD_WARNING)\n",
       "    }\n",
       "\n",
       "  }\n",
       "\n",
       "  if (root._bokeh_is_loading === 0) {\n",
       "    console.log(\"Bokeh: BokehJS loaded, going straight to plotting\");\n",
       "    run_inline_js();\n",
       "  } else {\n",
       "    load_libs(js_urls, function() {\n",
       "      console.log(\"Bokeh: BokehJS plotting callback run at\", now());\n",
       "      run_inline_js();\n",
       "    });\n",
       "  }\n",
       "}(window));"
      ],
      "application/vnd.bokehjs_load.v0+json": "\n(function(root) {\n  function now() {\n    return new Date();\n  }\n\n  var force = true;\n\n  if (typeof (root._bokeh_onload_callbacks) === \"undefined\" || force === true) {\n    root._bokeh_onload_callbacks = [];\n    root._bokeh_is_loading = undefined;\n  }\n\n  \n\n  \n  if (typeof (root._bokeh_timeout) === \"undefined\" || force === true) {\n    root._bokeh_timeout = Date.now() + 5000;\n    root._bokeh_failed_load = false;\n  }\n\n  var NB_LOAD_WARNING = {'data': {'text/html':\n     \"<div style='background-color: #fdd'>\\n\"+\n     \"<p>\\n\"+\n     \"BokehJS does not appear to have successfully loaded. If loading BokehJS from CDN, this \\n\"+\n     \"may be due to a slow or bad network connection. Possible fixes:\\n\"+\n     \"</p>\\n\"+\n     \"<ul>\\n\"+\n     \"<li>re-rerun `output_notebook()` to attempt to load from CDN again, or</li>\\n\"+\n     \"<li>use INLINE resources instead, as so:</li>\\n\"+\n     \"</ul>\\n\"+\n     \"<code>\\n\"+\n     \"from bokeh.resources import INLINE\\n\"+\n     \"output_notebook(resources=INLINE)\\n\"+\n     \"</code>\\n\"+\n     \"</div>\"}};\n\n  function display_loaded() {\n    var el = document.getElementById(\"263937ef-6dd6-4d6f-932d-f030c3ee122d\");\n    if (el != null) {\n      el.textContent = \"BokehJS is loading...\";\n    }\n    if (root.Bokeh !== undefined) {\n      if (el != null) {\n        el.textContent = \"BokehJS \" + root.Bokeh.version + \" successfully loaded.\";\n      }\n    } else if (Date.now() < root._bokeh_timeout) {\n      setTimeout(display_loaded, 100)\n    }\n  }\n\n\n  function run_callbacks() {\n    try {\n      root._bokeh_onload_callbacks.forEach(function(callback) { callback() });\n    }\n    finally {\n      delete root._bokeh_onload_callbacks\n    }\n    console.info(\"Bokeh: all callbacks have finished\");\n  }\n\n  function load_libs(js_urls, callback) {\n    root._bokeh_onload_callbacks.push(callback);\n    if (root._bokeh_is_loading > 0) {\n      console.log(\"Bokeh: BokehJS is being loaded, scheduling callback at\", now());\n      return null;\n    }\n    if (js_urls == null || js_urls.length === 0) {\n      run_callbacks();\n      return null;\n    }\n    console.log(\"Bokeh: BokehJS not loaded, scheduling load and callback at\", now());\n    root._bokeh_is_loading = js_urls.length;\n    for (var i = 0; i < js_urls.length; i++) {\n      var url = js_urls[i];\n      var s = document.createElement('script');\n      s.src = url;\n      s.async = false;\n      s.onreadystatechange = s.onload = function() {\n        root._bokeh_is_loading--;\n        if (root._bokeh_is_loading === 0) {\n          console.log(\"Bokeh: all BokehJS libraries loaded\");\n          run_callbacks()\n        }\n      };\n      s.onerror = function() {\n        console.warn(\"failed to load library \" + url);\n      };\n      console.log(\"Bokeh: injecting script tag for BokehJS library: \", url);\n      document.getElementsByTagName(\"head\")[0].appendChild(s);\n    }\n  };var element = document.getElementById(\"263937ef-6dd6-4d6f-932d-f030c3ee122d\");\n  if (element == null) {\n    console.log(\"Bokeh: ERROR: autoload.js configured with elementid '263937ef-6dd6-4d6f-932d-f030c3ee122d' but no matching script tag was found. \")\n    return false;\n  }\n\n  var js_urls = [\"https://cdn.pydata.org/bokeh/release/bokeh-0.12.10.min.js\", \"https://cdn.pydata.org/bokeh/release/bokeh-widgets-0.12.10.min.js\", \"https://cdn.pydata.org/bokeh/release/bokeh-tables-0.12.10.min.js\", \"https://cdn.pydata.org/bokeh/release/bokeh-gl-0.12.10.min.js\"];\n\n  var inline_js = [\n    function(Bokeh) {\n      Bokeh.set_log_level(\"info\");\n    },\n    \n    function(Bokeh) {\n      \n    },\n    function(Bokeh) {\n      console.log(\"Bokeh: injecting CSS: https://cdn.pydata.org/bokeh/release/bokeh-0.12.10.min.css\");\n      Bokeh.embed.inject_css(\"https://cdn.pydata.org/bokeh/release/bokeh-0.12.10.min.css\");\n      console.log(\"Bokeh: injecting CSS: https://cdn.pydata.org/bokeh/release/bokeh-widgets-0.12.10.min.css\");\n      Bokeh.embed.inject_css(\"https://cdn.pydata.org/bokeh/release/bokeh-widgets-0.12.10.min.css\");\n      console.log(\"Bokeh: injecting CSS: https://cdn.pydata.org/bokeh/release/bokeh-tables-0.12.10.min.css\");\n      Bokeh.embed.inject_css(\"https://cdn.pydata.org/bokeh/release/bokeh-tables-0.12.10.min.css\");\n    }\n  ];\n\n  function run_inline_js() {\n    \n    if ((root.Bokeh !== undefined) || (force === true)) {\n      for (var i = 0; i < inline_js.length; i++) {\n        inline_js[i].call(root, root.Bokeh);\n      }if (force === true) {\n        display_loaded();\n      }} else if (Date.now() < root._bokeh_timeout) {\n      setTimeout(run_inline_js, 100);\n    } else if (!root._bokeh_failed_load) {\n      console.log(\"Bokeh: BokehJS failed to load within specified timeout.\");\n      root._bokeh_failed_load = true;\n    } else if (force !== true) {\n      var cell = $(document.getElementById(\"263937ef-6dd6-4d6f-932d-f030c3ee122d\")).parents('.cell').data().cell;\n      cell.output_area.append_execute_result(NB_LOAD_WARNING)\n    }\n\n  }\n\n  if (root._bokeh_is_loading === 0) {\n    console.log(\"Bokeh: BokehJS loaded, going straight to plotting\");\n    run_inline_js();\n  } else {\n    load_libs(js_urls, function() {\n      console.log(\"Bokeh: BokehJS plotting callback run at\", now());\n      run_inline_js();\n    });\n  }\n}(window));"
     },
     "metadata": {},
     "output_type": "display_data"
    },
    {
     "data": {
      "text/html": [
       "<div style=\"display: table;\"><div style=\"display: table-row;\"><div style=\"display: table-cell;\"><b title=\"bokeh.models.renderers.GlyphRenderer\">GlyphRenderer</b>(</div><div style=\"display: table-cell;\">id&nbsp;=&nbsp;'2745ac72-3ffe-4b35-ba4a-539b9fa96e42', <span id=\"251f68b6-2a38-419f-9a33-065ed55736c1\" style=\"cursor: pointer;\">&hellip;)</span></div></div><div class=\"96bbfe2d-f650-4777-8f70-2e64de7c94bb\" style=\"display: none;\"><div style=\"display: table-cell;\"></div><div style=\"display: table-cell;\">data_source&nbsp;=&nbsp;ColumnDataSource(id='6a0230f2-5e10-4087-9b04-c481ef121ccb', ...),</div></div><div class=\"96bbfe2d-f650-4777-8f70-2e64de7c94bb\" style=\"display: none;\"><div style=\"display: table-cell;\"></div><div style=\"display: table-cell;\">glyph&nbsp;=&nbsp;Square(id='c3e263a0-3740-4cc3-8682-b07ae664319d', ...),</div></div><div class=\"96bbfe2d-f650-4777-8f70-2e64de7c94bb\" style=\"display: none;\"><div style=\"display: table-cell;\"></div><div style=\"display: table-cell;\">hover_glyph&nbsp;=&nbsp;None,</div></div><div class=\"96bbfe2d-f650-4777-8f70-2e64de7c94bb\" style=\"display: none;\"><div style=\"display: table-cell;\"></div><div style=\"display: table-cell;\">js_event_callbacks&nbsp;=&nbsp;{},</div></div><div class=\"96bbfe2d-f650-4777-8f70-2e64de7c94bb\" style=\"display: none;\"><div style=\"display: table-cell;\"></div><div style=\"display: table-cell;\">js_property_callbacks&nbsp;=&nbsp;{},</div></div><div class=\"96bbfe2d-f650-4777-8f70-2e64de7c94bb\" style=\"display: none;\"><div style=\"display: table-cell;\"></div><div style=\"display: table-cell;\">level&nbsp;=&nbsp;'glyph',</div></div><div class=\"96bbfe2d-f650-4777-8f70-2e64de7c94bb\" style=\"display: none;\"><div style=\"display: table-cell;\"></div><div style=\"display: table-cell;\">muted&nbsp;=&nbsp;False,</div></div><div class=\"96bbfe2d-f650-4777-8f70-2e64de7c94bb\" style=\"display: none;\"><div style=\"display: table-cell;\"></div><div style=\"display: table-cell;\">muted_glyph&nbsp;=&nbsp;None,</div></div><div class=\"96bbfe2d-f650-4777-8f70-2e64de7c94bb\" style=\"display: none;\"><div style=\"display: table-cell;\"></div><div style=\"display: table-cell;\">name&nbsp;=&nbsp;None,</div></div><div class=\"96bbfe2d-f650-4777-8f70-2e64de7c94bb\" style=\"display: none;\"><div style=\"display: table-cell;\"></div><div style=\"display: table-cell;\">nonselection_glyph&nbsp;=&nbsp;Square(id='0c3222ad-72e4-48c9-a96a-eb69c08c6817', ...),</div></div><div class=\"96bbfe2d-f650-4777-8f70-2e64de7c94bb\" style=\"display: none;\"><div style=\"display: table-cell;\"></div><div style=\"display: table-cell;\">selection_glyph&nbsp;=&nbsp;None,</div></div><div class=\"96bbfe2d-f650-4777-8f70-2e64de7c94bb\" style=\"display: none;\"><div style=\"display: table-cell;\"></div><div style=\"display: table-cell;\">subscribed_events&nbsp;=&nbsp;[],</div></div><div class=\"96bbfe2d-f650-4777-8f70-2e64de7c94bb\" style=\"display: none;\"><div style=\"display: table-cell;\"></div><div style=\"display: table-cell;\">tags&nbsp;=&nbsp;[],</div></div><div class=\"96bbfe2d-f650-4777-8f70-2e64de7c94bb\" style=\"display: none;\"><div style=\"display: table-cell;\"></div><div style=\"display: table-cell;\">view&nbsp;=&nbsp;CDSView(id='a52c10d2-a640-419a-a383-37fcbb1471a0', ...),</div></div><div class=\"96bbfe2d-f650-4777-8f70-2e64de7c94bb\" style=\"display: none;\"><div style=\"display: table-cell;\"></div><div style=\"display: table-cell;\">visible&nbsp;=&nbsp;True,</div></div><div class=\"96bbfe2d-f650-4777-8f70-2e64de7c94bb\" style=\"display: none;\"><div style=\"display: table-cell;\"></div><div style=\"display: table-cell;\">x_range_name&nbsp;=&nbsp;'default',</div></div><div class=\"96bbfe2d-f650-4777-8f70-2e64de7c94bb\" style=\"display: none;\"><div style=\"display: table-cell;\"></div><div style=\"display: table-cell;\">y_range_name&nbsp;=&nbsp;'default')</div></div></div>\n",
       "<script>\n",
       "(function() {\n",
       "  var expanded = false;\n",
       "  var ellipsis = document.getElementById(\"251f68b6-2a38-419f-9a33-065ed55736c1\");\n",
       "  ellipsis.addEventListener(\"click\", function() {\n",
       "    var rows = document.getElementsByClassName(\"96bbfe2d-f650-4777-8f70-2e64de7c94bb\");\n",
       "    for (var i = 0; i < rows.length; i++) {\n",
       "      var el = rows[i];\n",
       "      el.style.display = expanded ? \"none\" : \"table-row\";\n",
       "    }\n",
       "    ellipsis.innerHTML = expanded ? \"&hellip;)\" : \"&lsaquo;&lsaquo;&lsaquo;\";\n",
       "    expanded = !expanded;\n",
       "  });\n",
       "})();\n",
       "</script>\n"
      ],
      "text/plain": [
       "GlyphRenderer(id='2745ac72-3ffe-4b35-ba4a-539b9fa96e42', ...)"
      ]
     },
     "execution_count": 1,
     "metadata": {},
     "output_type": "execute_result"
    }
   ],
   "source": [
    "from bokeh.io import output_notebook, show\n",
    "output_notebook()\n",
    "from bokeh.plotting import figure, show, ColumnDataSource\n",
    "\n",
    "x = list(range(11))\n",
    "y0 = x\n",
    "y1 = [10 - i for i in x]\n",
    "y2 = [abs(i - 5) for i in x]\n",
    "\n",
    "# create a new plot\n",
    "s1 = figure(plot_width=250, plot_height=250, title=None)\n",
    "s1.circle(x, y0, size=10, color=\"navy\", alpha=0.5)\n",
    "\n",
    "# create another one\n",
    "s2 = figure(plot_width=250, plot_height=250, title=None)\n",
    "s2.triangle(x, y1, size=10, color=\"firebrick\", alpha=0.5)\n",
    "\n",
    "# create and another\n",
    "s3 = figure(plot_width=250, plot_height=250, title=None)\n",
    "s3.square(x, y2, size=10, color=\"olive\", alpha=0.5)"
   ]
  },
  {
   "cell_type": "markdown",
   "metadata": {},
   "source": [
    "#### Row"
   ]
  },
  {
   "cell_type": "code",
   "execution_count": 2,
   "metadata": {},
   "outputs": [
    {
     "data": {
      "text/html": [
       "\n",
       "<div class=\"bk-root\">\n",
       "    <div class=\"bk-plotdiv\" id=\"e2096d1b-f7cd-4eb3-a371-b9954529b4e1\"></div>\n",
       "</div>"
      ]
     },
     "metadata": {},
     "output_type": "display_data"
    },
    {
     "data": {
      "application/javascript": [
       "(function(root) {\n",
       "  function embed_document(root) {\n",
       "    var docs_json = {\"b8911748-1595-42e7-b6cb-03fca538684f\":{\"roots\":{\"references\":[{\"attributes\":{\"data_source\":{\"id\":\"6a0230f2-5e10-4087-9b04-c481ef121ccb\",\"type\":\"ColumnDataSource\"},\"glyph\":{\"id\":\"c3e263a0-3740-4cc3-8682-b07ae664319d\",\"type\":\"Square\"},\"hover_glyph\":null,\"muted_glyph\":null,\"nonselection_glyph\":{\"id\":\"0c3222ad-72e4-48c9-a96a-eb69c08c6817\",\"type\":\"Square\"},\"selection_glyph\":null,\"view\":{\"id\":\"a52c10d2-a640-419a-a383-37fcbb1471a0\",\"type\":\"CDSView\"}},\"id\":\"2745ac72-3ffe-4b35-ba4a-539b9fa96e42\",\"type\":\"GlyphRenderer\"},{\"attributes\":{},\"id\":\"484d6b06-a687-4e67-bdb1-65ada5291939\",\"type\":\"LinearScale\"},{\"attributes\":{},\"id\":\"834cddb0-eb3f-4257-9154-3bc09534c503\",\"type\":\"LinearScale\"},{\"attributes\":{\"plot\":{\"id\":\"39821fc7-0869-4d01-af1f-8032ff605674\",\"subtype\":\"Figure\",\"type\":\"Plot\"},\"ticker\":{\"id\":\"1dbebffb-bf42-42bc-9edf-ee647e8f1868\",\"type\":\"BasicTicker\"}},\"id\":\"4308e521-bfc3-43cc-b69b-fdcbeec1d2ca\",\"type\":\"Grid\"},{\"attributes\":{\"formatter\":{\"id\":\"1bc8dc9f-9d87-4224-a238-464d83c94fa9\",\"type\":\"BasicTickFormatter\"},\"plot\":{\"id\":\"39821fc7-0869-4d01-af1f-8032ff605674\",\"subtype\":\"Figure\",\"type\":\"Plot\"},\"ticker\":{\"id\":\"1dbebffb-bf42-42bc-9edf-ee647e8f1868\",\"type\":\"BasicTicker\"}},\"id\":\"9515e804-abf6-401c-ae79-95afe0b608a6\",\"type\":\"LinearAxis\"},{\"attributes\":{\"fill_alpha\":{\"value\":0.5},\"fill_color\":{\"value\":\"navy\"},\"line_alpha\":{\"value\":0.5},\"line_color\":{\"value\":\"navy\"},\"size\":{\"units\":\"screen\",\"value\":10},\"x\":{\"field\":\"x\"},\"y\":{\"field\":\"y\"}},\"id\":\"b4ef66d0-21db-43b0-9ed3-83022b82eec3\",\"type\":\"Circle\"},{\"attributes\":{\"source\":{\"id\":\"90b4cb9d-71fe-4530-95cd-5fe28e7b7cc0\",\"type\":\"ColumnDataSource\"}},\"id\":\"04e69300-085d-45a2-9e4e-deebc242d028\",\"type\":\"CDSView\"},{\"attributes\":{},\"id\":\"1dbebffb-bf42-42bc-9edf-ee647e8f1868\",\"type\":\"BasicTicker\"},{\"attributes\":{\"formatter\":{\"id\":\"12840a5c-d1df-4305-a3df-b13c2bf57f3c\",\"type\":\"BasicTickFormatter\"},\"plot\":{\"id\":\"39821fc7-0869-4d01-af1f-8032ff605674\",\"subtype\":\"Figure\",\"type\":\"Plot\"},\"ticker\":{\"id\":\"03bc7206-350a-434c-8d49-67b839a69773\",\"type\":\"BasicTicker\"}},\"id\":\"8da36f95-2ec6-4eda-bbb1-d4586d869722\",\"type\":\"LinearAxis\"},{\"attributes\":{},\"id\":\"87de8a19-792b-4044-ba5b-4953360aa8e5\",\"type\":\"BasicTickFormatter\"},{\"attributes\":{},\"id\":\"03bc7206-350a-434c-8d49-67b839a69773\",\"type\":\"BasicTicker\"},{\"attributes\":{\"below\":[{\"id\":\"621b5a4b-5f44-40bb-bdcf-43012958cce5\",\"type\":\"LinearAxis\"}],\"left\":[{\"id\":\"9353f842-3051-40eb-a4bf-150e822de221\",\"type\":\"LinearAxis\"}],\"plot_height\":250,\"plot_width\":250,\"renderers\":[{\"id\":\"621b5a4b-5f44-40bb-bdcf-43012958cce5\",\"type\":\"LinearAxis\"},{\"id\":\"2361bfed-46d3-4eda-bc9a-bb7fce1f287c\",\"type\":\"Grid\"},{\"id\":\"9353f842-3051-40eb-a4bf-150e822de221\",\"type\":\"LinearAxis\"},{\"id\":\"a042cbe9-6377-47d5-9a87-4cc055f6d428\",\"type\":\"Grid\"},{\"id\":\"74f3ea97-58bf-4532-b55b-2dd298091370\",\"type\":\"BoxAnnotation\"},{\"id\":\"05ed7945-bebc-41c2-be9d-d77e2d93b49b\",\"type\":\"GlyphRenderer\"}],\"title\":null,\"toolbar\":{\"id\":\"e2e457f0-510d-45e2-b628-bafe6efc0966\",\"type\":\"Toolbar\"},\"x_range\":{\"id\":\"55f88554-0cdc-413d-be56-1259816418ef\",\"type\":\"DataRange1d\"},\"x_scale\":{\"id\":\"cd68d4a4-f545-47d0-8b14-35cccfa901f1\",\"type\":\"LinearScale\"},\"y_range\":{\"id\":\"7b012100-0f94-4a20-9242-1e5d435b3a1b\",\"type\":\"DataRange1d\"},\"y_scale\":{\"id\":\"60ed717d-3640-4435-97d2-f0774c011d85\",\"type\":\"LinearScale\"}},\"id\":\"de0ae580-6553-460b-b63f-b5ad1091fb1f\",\"subtype\":\"Figure\",\"type\":\"Plot\"},{\"attributes\":{\"dimension\":1,\"plot\":{\"id\":\"39821fc7-0869-4d01-af1f-8032ff605674\",\"subtype\":\"Figure\",\"type\":\"Plot\"},\"ticker\":{\"id\":\"03bc7206-350a-434c-8d49-67b839a69773\",\"type\":\"BasicTicker\"}},\"id\":\"a612502a-da3c-4306-bc4c-268c48e9ac82\",\"type\":\"Grid\"},{\"attributes\":{},\"id\":\"033240a7-22e5-41bd-8f2f-fd44811cafca\",\"type\":\"BasicTickFormatter\"},{\"attributes\":{\"children\":[{\"id\":\"f3606a6c-2b35-4dce-b211-897d34a7d28c\",\"subtype\":\"Figure\",\"type\":\"Plot\"},{\"id\":\"de0ae580-6553-460b-b63f-b5ad1091fb1f\",\"subtype\":\"Figure\",\"type\":\"Plot\"},{\"id\":\"39821fc7-0869-4d01-af1f-8032ff605674\",\"subtype\":\"Figure\",\"type\":\"Plot\"}]},\"id\":\"1f423e49-af0a-4167-a451-af2f98a058a5\",\"type\":\"Row\"},{\"attributes\":{\"data_source\":{\"id\":\"90b4cb9d-71fe-4530-95cd-5fe28e7b7cc0\",\"type\":\"ColumnDataSource\"},\"glyph\":{\"id\":\"b4ef66d0-21db-43b0-9ed3-83022b82eec3\",\"type\":\"Circle\"},\"hover_glyph\":null,\"muted_glyph\":null,\"nonselection_glyph\":{\"id\":\"a03ee512-7a88-4d48-aa23-3bd5529a6c00\",\"type\":\"Circle\"},\"selection_glyph\":null,\"view\":{\"id\":\"04e69300-085d-45a2-9e4e-deebc242d028\",\"type\":\"CDSView\"}},\"id\":\"3b3c763d-5020-4dda-b0c2-366c05875e7d\",\"type\":\"GlyphRenderer\"},{\"attributes\":{\"source\":{\"id\":\"6a0230f2-5e10-4087-9b04-c481ef121ccb\",\"type\":\"ColumnDataSource\"}},\"id\":\"a52c10d2-a640-419a-a383-37fcbb1471a0\",\"type\":\"CDSView\"},{\"attributes\":{\"fill_alpha\":{\"value\":0.1},\"fill_color\":{\"value\":\"#1f77b4\"},\"line_alpha\":{\"value\":0.1},\"line_color\":{\"value\":\"#1f77b4\"},\"size\":{\"units\":\"screen\",\"value\":10},\"x\":{\"field\":\"x\"},\"y\":{\"field\":\"y\"}},\"id\":\"0c3222ad-72e4-48c9-a96a-eb69c08c6817\",\"type\":\"Square\"},{\"attributes\":{},\"id\":\"12840a5c-d1df-4305-a3df-b13c2bf57f3c\",\"type\":\"BasicTickFormatter\"},{\"attributes\":{\"bottom_units\":\"screen\",\"fill_alpha\":{\"value\":0.5},\"fill_color\":{\"value\":\"lightgrey\"},\"left_units\":\"screen\",\"level\":\"overlay\",\"line_alpha\":{\"value\":1.0},\"line_color\":{\"value\":\"black\"},\"line_dash\":[4,4],\"line_width\":{\"value\":2},\"plot\":null,\"render_mode\":\"css\",\"right_units\":\"screen\",\"top_units\":\"screen\"},\"id\":\"1ebe1795-7176-475a-8296-fa29592e0212\",\"type\":\"BoxAnnotation\"},{\"attributes\":{},\"id\":\"76376543-f42d-44b4-8206-7c544be4eb54\",\"type\":\"PanTool\"},{\"attributes\":{},\"id\":\"4b84c794-1f8a-4b47-8050-cfddcc62ea45\",\"type\":\"WheelZoomTool\"},{\"attributes\":{\"overlay\":{\"id\":\"1ebe1795-7176-475a-8296-fa29592e0212\",\"type\":\"BoxAnnotation\"}},\"id\":\"42847528-aabf-411f-b035-7d936a5d1e3e\",\"type\":\"BoxZoomTool\"},{\"attributes\":{},\"id\":\"62afe1c2-0732-4f22-bfae-e7fe03f5feb4\",\"type\":\"SaveTool\"},{\"attributes\":{\"plot\":{\"id\":\"f3606a6c-2b35-4dce-b211-897d34a7d28c\",\"subtype\":\"Figure\",\"type\":\"Plot\"},\"ticker\":{\"id\":\"9457da2d-53bb-4a90-b238-42d94ba6302d\",\"type\":\"BasicTicker\"}},\"id\":\"1932548c-aecd-4ab7-bdb0-d1f3f41c0bcd\",\"type\":\"Grid\"},{\"attributes\":{},\"id\":\"c4358060-2a01-45e7-a169-4abb8bb69544\",\"type\":\"ResetTool\"},{\"attributes\":{\"formatter\":{\"id\":\"033240a7-22e5-41bd-8f2f-fd44811cafca\",\"type\":\"BasicTickFormatter\"},\"plot\":{\"id\":\"f3606a6c-2b35-4dce-b211-897d34a7d28c\",\"subtype\":\"Figure\",\"type\":\"Plot\"},\"ticker\":{\"id\":\"92c133ec-4ea2-4833-aceb-1c9aba599744\",\"type\":\"BasicTicker\"}},\"id\":\"6228463c-6b5c-4180-be20-88b09b7e0ec7\",\"type\":\"LinearAxis\"},{\"attributes\":{},\"id\":\"9dad4d10-b4dc-482d-8ad2-b64334a73012\",\"type\":\"HelpTool\"},{\"attributes\":{},\"id\":\"1bc8dc9f-9d87-4224-a238-464d83c94fa9\",\"type\":\"BasicTickFormatter\"},{\"attributes\":{},\"id\":\"3a0227f0-ffe5-4101-9d90-1da382b65472\",\"type\":\"LinearScale\"},{\"attributes\":{\"formatter\":{\"id\":\"87de8a19-792b-4044-ba5b-4953360aa8e5\",\"type\":\"BasicTickFormatter\"},\"plot\":{\"id\":\"f3606a6c-2b35-4dce-b211-897d34a7d28c\",\"subtype\":\"Figure\",\"type\":\"Plot\"},\"ticker\":{\"id\":\"9457da2d-53bb-4a90-b238-42d94ba6302d\",\"type\":\"BasicTicker\"}},\"id\":\"16a5735e-6a63-4ca4-8b42-240ce7134216\",\"type\":\"LinearAxis\"},{\"attributes\":{\"active_drag\":\"auto\",\"active_inspect\":\"auto\",\"active_scroll\":\"auto\",\"active_tap\":\"auto\",\"tools\":[{\"id\":\"710e9451-c6cc-4642-92e1-30c04d578b69\",\"type\":\"PanTool\"},{\"id\":\"9233f9d1-9d78-4555-be0e-357e4631e7d1\",\"type\":\"WheelZoomTool\"},{\"id\":\"3aa2b285-c42f-473e-923e-9c0bb8e47e33\",\"type\":\"BoxZoomTool\"},{\"id\":\"c86ed642-7e6e-4a6f-9386-0f930814892e\",\"type\":\"SaveTool\"},{\"id\":\"9374474a-fe5e-4720-b18e-87624cd66d66\",\"type\":\"ResetTool\"},{\"id\":\"789493a7-f5ec-4fa5-a828-92bd9a64b29a\",\"type\":\"HelpTool\"}]},\"id\":\"e2e457f0-510d-45e2-b628-bafe6efc0966\",\"type\":\"Toolbar\"},{\"attributes\":{},\"id\":\"9457da2d-53bb-4a90-b238-42d94ba6302d\",\"type\":\"BasicTicker\"},{\"attributes\":{},\"id\":\"92c133ec-4ea2-4833-aceb-1c9aba599744\",\"type\":\"BasicTicker\"},{\"attributes\":{\"dimension\":1,\"plot\":{\"id\":\"f3606a6c-2b35-4dce-b211-897d34a7d28c\",\"subtype\":\"Figure\",\"type\":\"Plot\"},\"ticker\":{\"id\":\"92c133ec-4ea2-4833-aceb-1c9aba599744\",\"type\":\"BasicTicker\"}},\"id\":\"b6ca3bb1-9155-4c88-9ac8-f58b849fd32a\",\"type\":\"Grid\"},{\"attributes\":{\"bottom_units\":\"screen\",\"fill_alpha\":{\"value\":0.5},\"fill_color\":{\"value\":\"lightgrey\"},\"left_units\":\"screen\",\"level\":\"overlay\",\"line_alpha\":{\"value\":1.0},\"line_color\":{\"value\":\"black\"},\"line_dash\":[4,4],\"line_width\":{\"value\":2},\"plot\":null,\"render_mode\":\"css\",\"right_units\":\"screen\",\"top_units\":\"screen\"},\"id\":\"943ccb4f-7b7b-4c42-bd6b-56e13b8187ac\",\"type\":\"BoxAnnotation\"},{\"attributes\":{},\"id\":\"ade7d7d4-5dc4-4535-8e13-c6eebcc9137c\",\"type\":\"PanTool\"},{\"attributes\":{},\"id\":\"cb79bfaf-0350-41f9-bbe6-7f0955e9591b\",\"type\":\"WheelZoomTool\"},{\"attributes\":{\"overlay\":{\"id\":\"943ccb4f-7b7b-4c42-bd6b-56e13b8187ac\",\"type\":\"BoxAnnotation\"}},\"id\":\"2ebd62cf-1979-4e28-9fe1-ff8f2de76a75\",\"type\":\"BoxZoomTool\"},{\"attributes\":{},\"id\":\"6df7b27e-b65b-4e19-b72c-5fc6bb68c66d\",\"type\":\"SaveTool\"},{\"attributes\":{},\"id\":\"ab5d9413-3efc-4929-96e5-08119c3ef00f\",\"type\":\"ResetTool\"},{\"attributes\":{},\"id\":\"60843c6c-3673-4cf6-ae1f-5ef6ec600f6f\",\"type\":\"HelpTool\"},{\"attributes\":{\"callback\":null,\"column_names\":[\"x\",\"y\"],\"data\":{\"x\":[0,1,2,3,4,5,6,7,8,9,10],\"y\":[10,9,8,7,6,5,4,3,2,1,0]}},\"id\":\"068b6766-b402-47a2-9108-a069eb86ea91\",\"type\":\"ColumnDataSource\"},{\"attributes\":{},\"id\":\"3a21bee7-10d8-485e-bac4-dd844e2499ca\",\"type\":\"BasicTickFormatter\"},{\"attributes\":{},\"id\":\"60ed717d-3640-4435-97d2-f0774c011d85\",\"type\":\"LinearScale\"},{\"attributes\":{},\"id\":\"cd68d4a4-f545-47d0-8b14-35cccfa901f1\",\"type\":\"LinearScale\"},{\"attributes\":{\"source\":{\"id\":\"068b6766-b402-47a2-9108-a069eb86ea91\",\"type\":\"ColumnDataSource\"}},\"id\":\"eb78861c-b3bb-4cb8-a7d3-64394e075a20\",\"type\":\"CDSView\"},{\"attributes\":{\"callback\":null},\"id\":\"55f88554-0cdc-413d-be56-1259816418ef\",\"type\":\"DataRange1d\"},{\"attributes\":{\"fill_alpha\":{\"value\":0.1},\"fill_color\":{\"value\":\"#1f77b4\"},\"line_alpha\":{\"value\":0.1},\"line_color\":{\"value\":\"#1f77b4\"},\"size\":{\"units\":\"screen\",\"value\":10},\"x\":{\"field\":\"x\"},\"y\":{\"field\":\"y\"}},\"id\":\"04c652f9-4e45-4370-a773-84f4f283d1de\",\"type\":\"Triangle\"},{\"attributes\":{},\"id\":\"c04f022e-ff9c-4baf-8ac6-a09f40eae1bc\",\"type\":\"LinearScale\"},{\"attributes\":{\"callback\":null},\"id\":\"7b012100-0f94-4a20-9242-1e5d435b3a1b\",\"type\":\"DataRange1d\"},{\"attributes\":{\"active_drag\":\"auto\",\"active_inspect\":\"auto\",\"active_scroll\":\"auto\",\"active_tap\":\"auto\",\"tools\":[{\"id\":\"ade7d7d4-5dc4-4535-8e13-c6eebcc9137c\",\"type\":\"PanTool\"},{\"id\":\"cb79bfaf-0350-41f9-bbe6-7f0955e9591b\",\"type\":\"WheelZoomTool\"},{\"id\":\"2ebd62cf-1979-4e28-9fe1-ff8f2de76a75\",\"type\":\"BoxZoomTool\"},{\"id\":\"6df7b27e-b65b-4e19-b72c-5fc6bb68c66d\",\"type\":\"SaveTool\"},{\"id\":\"ab5d9413-3efc-4929-96e5-08119c3ef00f\",\"type\":\"ResetTool\"},{\"id\":\"60843c6c-3673-4cf6-ae1f-5ef6ec600f6f\",\"type\":\"HelpTool\"}]},\"id\":\"67304e55-0e43-4a65-bea9-f4b26736998b\",\"type\":\"Toolbar\"},{\"attributes\":{\"plot\":{\"id\":\"de0ae580-6553-460b-b63f-b5ad1091fb1f\",\"subtype\":\"Figure\",\"type\":\"Plot\"},\"ticker\":{\"id\":\"a377ac50-cb1f-4a1c-97e0-18387a5409bb\",\"type\":\"BasicTicker\"}},\"id\":\"2361bfed-46d3-4eda-bc9a-bb7fce1f287c\",\"type\":\"Grid\"},{\"attributes\":{\"callback\":null},\"id\":\"6cb4aa6b-4fa5-499b-9134-d6d3eb303ae3\",\"type\":\"DataRange1d\"},{\"attributes\":{\"formatter\":{\"id\":\"f7586252-e808-45e2-8b11-e31afa6fe857\",\"type\":\"BasicTickFormatter\"},\"plot\":{\"id\":\"de0ae580-6553-460b-b63f-b5ad1091fb1f\",\"subtype\":\"Figure\",\"type\":\"Plot\"},\"ticker\":{\"id\":\"a377ac50-cb1f-4a1c-97e0-18387a5409bb\",\"type\":\"BasicTicker\"}},\"id\":\"621b5a4b-5f44-40bb-bdcf-43012958cce5\",\"type\":\"LinearAxis\"},{\"attributes\":{\"callback\":null,\"column_names\":[\"x\",\"y\"],\"data\":{\"x\":[0,1,2,3,4,5,6,7,8,9,10],\"y\":[0,1,2,3,4,5,6,7,8,9,10]}},\"id\":\"90b4cb9d-71fe-4530-95cd-5fe28e7b7cc0\",\"type\":\"ColumnDataSource\"},{\"attributes\":{},\"id\":\"a377ac50-cb1f-4a1c-97e0-18387a5409bb\",\"type\":\"BasicTicker\"},{\"attributes\":{\"formatter\":{\"id\":\"3a21bee7-10d8-485e-bac4-dd844e2499ca\",\"type\":\"BasicTickFormatter\"},\"plot\":{\"id\":\"de0ae580-6553-460b-b63f-b5ad1091fb1f\",\"subtype\":\"Figure\",\"type\":\"Plot\"},\"ticker\":{\"id\":\"fcdc1c94-19f9-4a6a-b119-eb8074e8e0a4\",\"type\":\"BasicTicker\"}},\"id\":\"9353f842-3051-40eb-a4bf-150e822de221\",\"type\":\"LinearAxis\"},{\"attributes\":{},\"id\":\"fcdc1c94-19f9-4a6a-b119-eb8074e8e0a4\",\"type\":\"BasicTicker\"},{\"attributes\":{\"dimension\":1,\"plot\":{\"id\":\"de0ae580-6553-460b-b63f-b5ad1091fb1f\",\"subtype\":\"Figure\",\"type\":\"Plot\"},\"ticker\":{\"id\":\"fcdc1c94-19f9-4a6a-b119-eb8074e8e0a4\",\"type\":\"BasicTicker\"}},\"id\":\"a042cbe9-6377-47d5-9a87-4cc055f6d428\",\"type\":\"Grid\"},{\"attributes\":{\"data_source\":{\"id\":\"068b6766-b402-47a2-9108-a069eb86ea91\",\"type\":\"ColumnDataSource\"},\"glyph\":{\"id\":\"f77bcfbb-f093-4740-9993-0a26de5a476c\",\"type\":\"Triangle\"},\"hover_glyph\":null,\"muted_glyph\":null,\"nonselection_glyph\":{\"id\":\"04c652f9-4e45-4370-a773-84f4f283d1de\",\"type\":\"Triangle\"},\"selection_glyph\":null,\"view\":{\"id\":\"eb78861c-b3bb-4cb8-a7d3-64394e075a20\",\"type\":\"CDSView\"}},\"id\":\"05ed7945-bebc-41c2-be9d-d77e2d93b49b\",\"type\":\"GlyphRenderer\"},{\"attributes\":{\"fill_alpha\":{\"value\":0.5},\"fill_color\":{\"value\":\"firebrick\"},\"line_alpha\":{\"value\":0.5},\"line_color\":{\"value\":\"firebrick\"},\"size\":{\"units\":\"screen\",\"value\":10},\"x\":{\"field\":\"x\"},\"y\":{\"field\":\"y\"}},\"id\":\"f77bcfbb-f093-4740-9993-0a26de5a476c\",\"type\":\"Triangle\"},{\"attributes\":{\"below\":[{\"id\":\"9515e804-abf6-401c-ae79-95afe0b608a6\",\"type\":\"LinearAxis\"}],\"left\":[{\"id\":\"8da36f95-2ec6-4eda-bbb1-d4586d869722\",\"type\":\"LinearAxis\"}],\"plot_height\":250,\"plot_width\":250,\"renderers\":[{\"id\":\"9515e804-abf6-401c-ae79-95afe0b608a6\",\"type\":\"LinearAxis\"},{\"id\":\"4308e521-bfc3-43cc-b69b-fdcbeec1d2ca\",\"type\":\"Grid\"},{\"id\":\"8da36f95-2ec6-4eda-bbb1-d4586d869722\",\"type\":\"LinearAxis\"},{\"id\":\"a612502a-da3c-4306-bc4c-268c48e9ac82\",\"type\":\"Grid\"},{\"id\":\"1ebe1795-7176-475a-8296-fa29592e0212\",\"type\":\"BoxAnnotation\"},{\"id\":\"2745ac72-3ffe-4b35-ba4a-539b9fa96e42\",\"type\":\"GlyphRenderer\"}],\"title\":null,\"toolbar\":{\"id\":\"607e8086-94ff-4b2e-8900-77355a18b07c\",\"type\":\"Toolbar\"},\"x_range\":{\"id\":\"097dbffe-2709-4613-b5bd-233823483e9a\",\"type\":\"DataRange1d\"},\"x_scale\":{\"id\":\"484d6b06-a687-4e67-bdb1-65ada5291939\",\"type\":\"LinearScale\"},\"y_range\":{\"id\":\"f74ecbc5-8b2b-4c80-9a58-f656dc5f9e3f\",\"type\":\"DataRange1d\"},\"y_scale\":{\"id\":\"834cddb0-eb3f-4257-9154-3bc09534c503\",\"type\":\"LinearScale\"}},\"id\":\"39821fc7-0869-4d01-af1f-8032ff605674\",\"subtype\":\"Figure\",\"type\":\"Plot\"},{\"attributes\":{\"bottom_units\":\"screen\",\"fill_alpha\":{\"value\":0.5},\"fill_color\":{\"value\":\"lightgrey\"},\"left_units\":\"screen\",\"level\":\"overlay\",\"line_alpha\":{\"value\":1.0},\"line_color\":{\"value\":\"black\"},\"line_dash\":[4,4],\"line_width\":{\"value\":2},\"plot\":null,\"render_mode\":\"css\",\"right_units\":\"screen\",\"top_units\":\"screen\"},\"id\":\"74f3ea97-58bf-4532-b55b-2dd298091370\",\"type\":\"BoxAnnotation\"},{\"attributes\":{},\"id\":\"710e9451-c6cc-4642-92e1-30c04d578b69\",\"type\":\"PanTool\"},{\"attributes\":{\"below\":[{\"id\":\"16a5735e-6a63-4ca4-8b42-240ce7134216\",\"type\":\"LinearAxis\"}],\"left\":[{\"id\":\"6228463c-6b5c-4180-be20-88b09b7e0ec7\",\"type\":\"LinearAxis\"}],\"plot_height\":250,\"plot_width\":250,\"renderers\":[{\"id\":\"16a5735e-6a63-4ca4-8b42-240ce7134216\",\"type\":\"LinearAxis\"},{\"id\":\"1932548c-aecd-4ab7-bdb0-d1f3f41c0bcd\",\"type\":\"Grid\"},{\"id\":\"6228463c-6b5c-4180-be20-88b09b7e0ec7\",\"type\":\"LinearAxis\"},{\"id\":\"b6ca3bb1-9155-4c88-9ac8-f58b849fd32a\",\"type\":\"Grid\"},{\"id\":\"943ccb4f-7b7b-4c42-bd6b-56e13b8187ac\",\"type\":\"BoxAnnotation\"},{\"id\":\"3b3c763d-5020-4dda-b0c2-366c05875e7d\",\"type\":\"GlyphRenderer\"}],\"title\":null,\"toolbar\":{\"id\":\"67304e55-0e43-4a65-bea9-f4b26736998b\",\"type\":\"Toolbar\"},\"x_range\":{\"id\":\"82a8edab-1ca0-4e40-91bd-a5fb094afb5a\",\"type\":\"DataRange1d\"},\"x_scale\":{\"id\":\"c04f022e-ff9c-4baf-8ac6-a09f40eae1bc\",\"type\":\"LinearScale\"},\"y_range\":{\"id\":\"6cb4aa6b-4fa5-499b-9134-d6d3eb303ae3\",\"type\":\"DataRange1d\"},\"y_scale\":{\"id\":\"3a0227f0-ffe5-4101-9d90-1da382b65472\",\"type\":\"LinearScale\"}},\"id\":\"f3606a6c-2b35-4dce-b211-897d34a7d28c\",\"subtype\":\"Figure\",\"type\":\"Plot\"},{\"attributes\":{\"fill_alpha\":{\"value\":0.5},\"fill_color\":{\"value\":\"olive\"},\"line_alpha\":{\"value\":0.5},\"line_color\":{\"value\":\"olive\"},\"size\":{\"units\":\"screen\",\"value\":10},\"x\":{\"field\":\"x\"},\"y\":{\"field\":\"y\"}},\"id\":\"c3e263a0-3740-4cc3-8682-b07ae664319d\",\"type\":\"Square\"},{\"attributes\":{},\"id\":\"9233f9d1-9d78-4555-be0e-357e4631e7d1\",\"type\":\"WheelZoomTool\"},{\"attributes\":{\"overlay\":{\"id\":\"74f3ea97-58bf-4532-b55b-2dd298091370\",\"type\":\"BoxAnnotation\"}},\"id\":\"3aa2b285-c42f-473e-923e-9c0bb8e47e33\",\"type\":\"BoxZoomTool\"},{\"attributes\":{},\"id\":\"c86ed642-7e6e-4a6f-9386-0f930814892e\",\"type\":\"SaveTool\"},{\"attributes\":{},\"id\":\"9374474a-fe5e-4720-b18e-87624cd66d66\",\"type\":\"ResetTool\"},{\"attributes\":{},\"id\":\"789493a7-f5ec-4fa5-a828-92bd9a64b29a\",\"type\":\"HelpTool\"},{\"attributes\":{\"callback\":null},\"id\":\"097dbffe-2709-4613-b5bd-233823483e9a\",\"type\":\"DataRange1d\"},{\"attributes\":{\"fill_alpha\":{\"value\":0.1},\"fill_color\":{\"value\":\"#1f77b4\"},\"line_alpha\":{\"value\":0.1},\"line_color\":{\"value\":\"#1f77b4\"},\"size\":{\"units\":\"screen\",\"value\":10},\"x\":{\"field\":\"x\"},\"y\":{\"field\":\"y\"}},\"id\":\"a03ee512-7a88-4d48-aa23-3bd5529a6c00\",\"type\":\"Circle\"},{\"attributes\":{\"callback\":null},\"id\":\"82a8edab-1ca0-4e40-91bd-a5fb094afb5a\",\"type\":\"DataRange1d\"},{\"attributes\":{},\"id\":\"f7586252-e808-45e2-8b11-e31afa6fe857\",\"type\":\"BasicTickFormatter\"},{\"attributes\":{\"callback\":null,\"column_names\":[\"x\",\"y\"],\"data\":{\"x\":[0,1,2,3,4,5,6,7,8,9,10],\"y\":[5,4,3,2,1,0,1,2,3,4,5]}},\"id\":\"6a0230f2-5e10-4087-9b04-c481ef121ccb\",\"type\":\"ColumnDataSource\"},{\"attributes\":{\"active_drag\":\"auto\",\"active_inspect\":\"auto\",\"active_scroll\":\"auto\",\"active_tap\":\"auto\",\"tools\":[{\"id\":\"76376543-f42d-44b4-8206-7c544be4eb54\",\"type\":\"PanTool\"},{\"id\":\"4b84c794-1f8a-4b47-8050-cfddcc62ea45\",\"type\":\"WheelZoomTool\"},{\"id\":\"42847528-aabf-411f-b035-7d936a5d1e3e\",\"type\":\"BoxZoomTool\"},{\"id\":\"62afe1c2-0732-4f22-bfae-e7fe03f5feb4\",\"type\":\"SaveTool\"},{\"id\":\"c4358060-2a01-45e7-a169-4abb8bb69544\",\"type\":\"ResetTool\"},{\"id\":\"9dad4d10-b4dc-482d-8ad2-b64334a73012\",\"type\":\"HelpTool\"}]},\"id\":\"607e8086-94ff-4b2e-8900-77355a18b07c\",\"type\":\"Toolbar\"},{\"attributes\":{\"callback\":null},\"id\":\"f74ecbc5-8b2b-4c80-9a58-f656dc5f9e3f\",\"type\":\"DataRange1d\"}],\"root_ids\":[\"1f423e49-af0a-4167-a451-af2f98a058a5\"]},\"title\":\"Bokeh Application\",\"version\":\"0.12.10\"}};\n",
       "    var render_items = [{\"docid\":\"b8911748-1595-42e7-b6cb-03fca538684f\",\"elementid\":\"e2096d1b-f7cd-4eb3-a371-b9954529b4e1\",\"modelid\":\"1f423e49-af0a-4167-a451-af2f98a058a5\"}];\n",
       "\n",
       "    root.Bokeh.embed.embed_items(docs_json, render_items);\n",
       "  }\n",
       "\n",
       "  if (root.Bokeh !== undefined) {\n",
       "    embed_document(root);\n",
       "  } else {\n",
       "    var attempts = 0;\n",
       "    var timer = setInterval(function(root) {\n",
       "      if (root.Bokeh !== undefined) {\n",
       "        embed_document(root);\n",
       "        clearInterval(timer);\n",
       "      }\n",
       "      attempts++;\n",
       "      if (attempts > 100) {\n",
       "        console.log(\"Bokeh: ERROR: Unable to embed document because BokehJS library is missing\")\n",
       "        clearInterval(timer);\n",
       "      }\n",
       "    }, 10, root)\n",
       "  }\n",
       "})(window);"
      ],
      "application/vnd.bokehjs_exec.v0+json": ""
     },
     "metadata": {
      "application/vnd.bokehjs_exec.v0+json": {
       "id": "1f423e49-af0a-4167-a451-af2f98a058a5"
      }
     },
     "output_type": "display_data"
    }
   ],
   "source": [
    "from bokeh.layouts import row\n",
    "show(row(s1, s2, s3))"
   ]
  },
  {
   "cell_type": "markdown",
   "metadata": {},
   "source": [
    "#### Column"
   ]
  },
  {
   "cell_type": "code",
   "execution_count": 3,
   "metadata": {},
   "outputs": [
    {
     "data": {
      "text/html": [
       "\n",
       "<div class=\"bk-root\">\n",
       "    <div class=\"bk-plotdiv\" id=\"74de5e2f-2320-4af8-ba14-6e08bc37b440\"></div>\n",
       "</div>"
      ]
     },
     "metadata": {},
     "output_type": "display_data"
    },
    {
     "data": {
      "application/javascript": [
       "(function(root) {\n",
       "  function embed_document(root) {\n",
       "    var docs_json = {\"ef14c093-d26b-4540-b7af-d4536404f07f\":{\"roots\":{\"references\":[{\"attributes\":{\"data_source\":{\"id\":\"6a0230f2-5e10-4087-9b04-c481ef121ccb\",\"type\":\"ColumnDataSource\"},\"glyph\":{\"id\":\"c3e263a0-3740-4cc3-8682-b07ae664319d\",\"type\":\"Square\"},\"hover_glyph\":null,\"muted_glyph\":null,\"nonselection_glyph\":{\"id\":\"0c3222ad-72e4-48c9-a96a-eb69c08c6817\",\"type\":\"Square\"},\"selection_glyph\":null,\"view\":{\"id\":\"a52c10d2-a640-419a-a383-37fcbb1471a0\",\"type\":\"CDSView\"}},\"id\":\"2745ac72-3ffe-4b35-ba4a-539b9fa96e42\",\"type\":\"GlyphRenderer\"},{\"attributes\":{},\"id\":\"484d6b06-a687-4e67-bdb1-65ada5291939\",\"type\":\"LinearScale\"},{\"attributes\":{},\"id\":\"834cddb0-eb3f-4257-9154-3bc09534c503\",\"type\":\"LinearScale\"},{\"attributes\":{\"plot\":{\"id\":\"39821fc7-0869-4d01-af1f-8032ff605674\",\"subtype\":\"Figure\",\"type\":\"Plot\"},\"ticker\":{\"id\":\"1dbebffb-bf42-42bc-9edf-ee647e8f1868\",\"type\":\"BasicTicker\"}},\"id\":\"4308e521-bfc3-43cc-b69b-fdcbeec1d2ca\",\"type\":\"Grid\"},{\"attributes\":{\"formatter\":{\"id\":\"1bc8dc9f-9d87-4224-a238-464d83c94fa9\",\"type\":\"BasicTickFormatter\"},\"plot\":{\"id\":\"39821fc7-0869-4d01-af1f-8032ff605674\",\"subtype\":\"Figure\",\"type\":\"Plot\"},\"ticker\":{\"id\":\"1dbebffb-bf42-42bc-9edf-ee647e8f1868\",\"type\":\"BasicTicker\"}},\"id\":\"9515e804-abf6-401c-ae79-95afe0b608a6\",\"type\":\"LinearAxis\"},{\"attributes\":{\"fill_alpha\":{\"value\":0.5},\"fill_color\":{\"value\":\"navy\"},\"line_alpha\":{\"value\":0.5},\"line_color\":{\"value\":\"navy\"},\"size\":{\"units\":\"screen\",\"value\":10},\"x\":{\"field\":\"x\"},\"y\":{\"field\":\"y\"}},\"id\":\"b4ef66d0-21db-43b0-9ed3-83022b82eec3\",\"type\":\"Circle\"},{\"attributes\":{\"source\":{\"id\":\"90b4cb9d-71fe-4530-95cd-5fe28e7b7cc0\",\"type\":\"ColumnDataSource\"}},\"id\":\"04e69300-085d-45a2-9e4e-deebc242d028\",\"type\":\"CDSView\"},{\"attributes\":{},\"id\":\"1dbebffb-bf42-42bc-9edf-ee647e8f1868\",\"type\":\"BasicTicker\"},{\"attributes\":{\"formatter\":{\"id\":\"12840a5c-d1df-4305-a3df-b13c2bf57f3c\",\"type\":\"BasicTickFormatter\"},\"plot\":{\"id\":\"39821fc7-0869-4d01-af1f-8032ff605674\",\"subtype\":\"Figure\",\"type\":\"Plot\"},\"ticker\":{\"id\":\"03bc7206-350a-434c-8d49-67b839a69773\",\"type\":\"BasicTicker\"}},\"id\":\"8da36f95-2ec6-4eda-bbb1-d4586d869722\",\"type\":\"LinearAxis\"},{\"attributes\":{},\"id\":\"87de8a19-792b-4044-ba5b-4953360aa8e5\",\"type\":\"BasicTickFormatter\"},{\"attributes\":{},\"id\":\"03bc7206-350a-434c-8d49-67b839a69773\",\"type\":\"BasicTicker\"},{\"attributes\":{\"below\":[{\"id\":\"621b5a4b-5f44-40bb-bdcf-43012958cce5\",\"type\":\"LinearAxis\"}],\"left\":[{\"id\":\"9353f842-3051-40eb-a4bf-150e822de221\",\"type\":\"LinearAxis\"}],\"plot_height\":250,\"plot_width\":250,\"renderers\":[{\"id\":\"621b5a4b-5f44-40bb-bdcf-43012958cce5\",\"type\":\"LinearAxis\"},{\"id\":\"2361bfed-46d3-4eda-bc9a-bb7fce1f287c\",\"type\":\"Grid\"},{\"id\":\"9353f842-3051-40eb-a4bf-150e822de221\",\"type\":\"LinearAxis\"},{\"id\":\"a042cbe9-6377-47d5-9a87-4cc055f6d428\",\"type\":\"Grid\"},{\"id\":\"74f3ea97-58bf-4532-b55b-2dd298091370\",\"type\":\"BoxAnnotation\"},{\"id\":\"05ed7945-bebc-41c2-be9d-d77e2d93b49b\",\"type\":\"GlyphRenderer\"}],\"title\":null,\"toolbar\":{\"id\":\"e2e457f0-510d-45e2-b628-bafe6efc0966\",\"type\":\"Toolbar\"},\"x_range\":{\"id\":\"55f88554-0cdc-413d-be56-1259816418ef\",\"type\":\"DataRange1d\"},\"x_scale\":{\"id\":\"cd68d4a4-f545-47d0-8b14-35cccfa901f1\",\"type\":\"LinearScale\"},\"y_range\":{\"id\":\"7b012100-0f94-4a20-9242-1e5d435b3a1b\",\"type\":\"DataRange1d\"},\"y_scale\":{\"id\":\"60ed717d-3640-4435-97d2-f0774c011d85\",\"type\":\"LinearScale\"}},\"id\":\"de0ae580-6553-460b-b63f-b5ad1091fb1f\",\"subtype\":\"Figure\",\"type\":\"Plot\"},{\"attributes\":{\"dimension\":1,\"plot\":{\"id\":\"39821fc7-0869-4d01-af1f-8032ff605674\",\"subtype\":\"Figure\",\"type\":\"Plot\"},\"ticker\":{\"id\":\"03bc7206-350a-434c-8d49-67b839a69773\",\"type\":\"BasicTicker\"}},\"id\":\"a612502a-da3c-4306-bc4c-268c48e9ac82\",\"type\":\"Grid\"},{\"attributes\":{},\"id\":\"033240a7-22e5-41bd-8f2f-fd44811cafca\",\"type\":\"BasicTickFormatter\"},{\"attributes\":{\"data_source\":{\"id\":\"90b4cb9d-71fe-4530-95cd-5fe28e7b7cc0\",\"type\":\"ColumnDataSource\"},\"glyph\":{\"id\":\"b4ef66d0-21db-43b0-9ed3-83022b82eec3\",\"type\":\"Circle\"},\"hover_glyph\":null,\"muted_glyph\":null,\"nonselection_glyph\":{\"id\":\"a03ee512-7a88-4d48-aa23-3bd5529a6c00\",\"type\":\"Circle\"},\"selection_glyph\":null,\"view\":{\"id\":\"04e69300-085d-45a2-9e4e-deebc242d028\",\"type\":\"CDSView\"}},\"id\":\"3b3c763d-5020-4dda-b0c2-366c05875e7d\",\"type\":\"GlyphRenderer\"},{\"attributes\":{\"source\":{\"id\":\"6a0230f2-5e10-4087-9b04-c481ef121ccb\",\"type\":\"ColumnDataSource\"}},\"id\":\"a52c10d2-a640-419a-a383-37fcbb1471a0\",\"type\":\"CDSView\"},{\"attributes\":{\"fill_alpha\":{\"value\":0.1},\"fill_color\":{\"value\":\"#1f77b4\"},\"line_alpha\":{\"value\":0.1},\"line_color\":{\"value\":\"#1f77b4\"},\"size\":{\"units\":\"screen\",\"value\":10},\"x\":{\"field\":\"x\"},\"y\":{\"field\":\"y\"}},\"id\":\"0c3222ad-72e4-48c9-a96a-eb69c08c6817\",\"type\":\"Square\"},{\"attributes\":{},\"id\":\"12840a5c-d1df-4305-a3df-b13c2bf57f3c\",\"type\":\"BasicTickFormatter\"},{\"attributes\":{\"bottom_units\":\"screen\",\"fill_alpha\":{\"value\":0.5},\"fill_color\":{\"value\":\"lightgrey\"},\"left_units\":\"screen\",\"level\":\"overlay\",\"line_alpha\":{\"value\":1.0},\"line_color\":{\"value\":\"black\"},\"line_dash\":[4,4],\"line_width\":{\"value\":2},\"plot\":null,\"render_mode\":\"css\",\"right_units\":\"screen\",\"top_units\":\"screen\"},\"id\":\"1ebe1795-7176-475a-8296-fa29592e0212\",\"type\":\"BoxAnnotation\"},{\"attributes\":{},\"id\":\"76376543-f42d-44b4-8206-7c544be4eb54\",\"type\":\"PanTool\"},{\"attributes\":{},\"id\":\"4b84c794-1f8a-4b47-8050-cfddcc62ea45\",\"type\":\"WheelZoomTool\"},{\"attributes\":{\"overlay\":{\"id\":\"1ebe1795-7176-475a-8296-fa29592e0212\",\"type\":\"BoxAnnotation\"}},\"id\":\"42847528-aabf-411f-b035-7d936a5d1e3e\",\"type\":\"BoxZoomTool\"},{\"attributes\":{},\"id\":\"62afe1c2-0732-4f22-bfae-e7fe03f5feb4\",\"type\":\"SaveTool\"},{\"attributes\":{\"plot\":{\"id\":\"f3606a6c-2b35-4dce-b211-897d34a7d28c\",\"subtype\":\"Figure\",\"type\":\"Plot\"},\"ticker\":{\"id\":\"9457da2d-53bb-4a90-b238-42d94ba6302d\",\"type\":\"BasicTicker\"}},\"id\":\"1932548c-aecd-4ab7-bdb0-d1f3f41c0bcd\",\"type\":\"Grid\"},{\"attributes\":{},\"id\":\"c4358060-2a01-45e7-a169-4abb8bb69544\",\"type\":\"ResetTool\"},{\"attributes\":{\"formatter\":{\"id\":\"033240a7-22e5-41bd-8f2f-fd44811cafca\",\"type\":\"BasicTickFormatter\"},\"plot\":{\"id\":\"f3606a6c-2b35-4dce-b211-897d34a7d28c\",\"subtype\":\"Figure\",\"type\":\"Plot\"},\"ticker\":{\"id\":\"92c133ec-4ea2-4833-aceb-1c9aba599744\",\"type\":\"BasicTicker\"}},\"id\":\"6228463c-6b5c-4180-be20-88b09b7e0ec7\",\"type\":\"LinearAxis\"},{\"attributes\":{},\"id\":\"9dad4d10-b4dc-482d-8ad2-b64334a73012\",\"type\":\"HelpTool\"},{\"attributes\":{},\"id\":\"1bc8dc9f-9d87-4224-a238-464d83c94fa9\",\"type\":\"BasicTickFormatter\"},{\"attributes\":{},\"id\":\"3a0227f0-ffe5-4101-9d90-1da382b65472\",\"type\":\"LinearScale\"},{\"attributes\":{\"formatter\":{\"id\":\"87de8a19-792b-4044-ba5b-4953360aa8e5\",\"type\":\"BasicTickFormatter\"},\"plot\":{\"id\":\"f3606a6c-2b35-4dce-b211-897d34a7d28c\",\"subtype\":\"Figure\",\"type\":\"Plot\"},\"ticker\":{\"id\":\"9457da2d-53bb-4a90-b238-42d94ba6302d\",\"type\":\"BasicTicker\"}},\"id\":\"16a5735e-6a63-4ca4-8b42-240ce7134216\",\"type\":\"LinearAxis\"},{\"attributes\":{\"active_drag\":\"auto\",\"active_inspect\":\"auto\",\"active_scroll\":\"auto\",\"active_tap\":\"auto\",\"tools\":[{\"id\":\"710e9451-c6cc-4642-92e1-30c04d578b69\",\"type\":\"PanTool\"},{\"id\":\"9233f9d1-9d78-4555-be0e-357e4631e7d1\",\"type\":\"WheelZoomTool\"},{\"id\":\"3aa2b285-c42f-473e-923e-9c0bb8e47e33\",\"type\":\"BoxZoomTool\"},{\"id\":\"c86ed642-7e6e-4a6f-9386-0f930814892e\",\"type\":\"SaveTool\"},{\"id\":\"9374474a-fe5e-4720-b18e-87624cd66d66\",\"type\":\"ResetTool\"},{\"id\":\"789493a7-f5ec-4fa5-a828-92bd9a64b29a\",\"type\":\"HelpTool\"}]},\"id\":\"e2e457f0-510d-45e2-b628-bafe6efc0966\",\"type\":\"Toolbar\"},{\"attributes\":{},\"id\":\"9457da2d-53bb-4a90-b238-42d94ba6302d\",\"type\":\"BasicTicker\"},{\"attributes\":{},\"id\":\"92c133ec-4ea2-4833-aceb-1c9aba599744\",\"type\":\"BasicTicker\"},{\"attributes\":{\"dimension\":1,\"plot\":{\"id\":\"f3606a6c-2b35-4dce-b211-897d34a7d28c\",\"subtype\":\"Figure\",\"type\":\"Plot\"},\"ticker\":{\"id\":\"92c133ec-4ea2-4833-aceb-1c9aba599744\",\"type\":\"BasicTicker\"}},\"id\":\"b6ca3bb1-9155-4c88-9ac8-f58b849fd32a\",\"type\":\"Grid\"},{\"attributes\":{\"bottom_units\":\"screen\",\"fill_alpha\":{\"value\":0.5},\"fill_color\":{\"value\":\"lightgrey\"},\"left_units\":\"screen\",\"level\":\"overlay\",\"line_alpha\":{\"value\":1.0},\"line_color\":{\"value\":\"black\"},\"line_dash\":[4,4],\"line_width\":{\"value\":2},\"plot\":null,\"render_mode\":\"css\",\"right_units\":\"screen\",\"top_units\":\"screen\"},\"id\":\"943ccb4f-7b7b-4c42-bd6b-56e13b8187ac\",\"type\":\"BoxAnnotation\"},{\"attributes\":{\"children\":[{\"id\":\"f3606a6c-2b35-4dce-b211-897d34a7d28c\",\"subtype\":\"Figure\",\"type\":\"Plot\"},{\"id\":\"de0ae580-6553-460b-b63f-b5ad1091fb1f\",\"subtype\":\"Figure\",\"type\":\"Plot\"},{\"id\":\"39821fc7-0869-4d01-af1f-8032ff605674\",\"subtype\":\"Figure\",\"type\":\"Plot\"}]},\"id\":\"458739f7-2081-4be2-8308-e3fdbc7942de\",\"type\":\"Column\"},{\"attributes\":{},\"id\":\"ade7d7d4-5dc4-4535-8e13-c6eebcc9137c\",\"type\":\"PanTool\"},{\"attributes\":{},\"id\":\"cb79bfaf-0350-41f9-bbe6-7f0955e9591b\",\"type\":\"WheelZoomTool\"},{\"attributes\":{\"overlay\":{\"id\":\"943ccb4f-7b7b-4c42-bd6b-56e13b8187ac\",\"type\":\"BoxAnnotation\"}},\"id\":\"2ebd62cf-1979-4e28-9fe1-ff8f2de76a75\",\"type\":\"BoxZoomTool\"},{\"attributes\":{},\"id\":\"6df7b27e-b65b-4e19-b72c-5fc6bb68c66d\",\"type\":\"SaveTool\"},{\"attributes\":{},\"id\":\"ab5d9413-3efc-4929-96e5-08119c3ef00f\",\"type\":\"ResetTool\"},{\"attributes\":{},\"id\":\"60843c6c-3673-4cf6-ae1f-5ef6ec600f6f\",\"type\":\"HelpTool\"},{\"attributes\":{\"callback\":null,\"column_names\":[\"x\",\"y\"],\"data\":{\"x\":[0,1,2,3,4,5,6,7,8,9,10],\"y\":[10,9,8,7,6,5,4,3,2,1,0]}},\"id\":\"068b6766-b402-47a2-9108-a069eb86ea91\",\"type\":\"ColumnDataSource\"},{\"attributes\":{},\"id\":\"3a21bee7-10d8-485e-bac4-dd844e2499ca\",\"type\":\"BasicTickFormatter\"},{\"attributes\":{},\"id\":\"60ed717d-3640-4435-97d2-f0774c011d85\",\"type\":\"LinearScale\"},{\"attributes\":{},\"id\":\"cd68d4a4-f545-47d0-8b14-35cccfa901f1\",\"type\":\"LinearScale\"},{\"attributes\":{\"source\":{\"id\":\"068b6766-b402-47a2-9108-a069eb86ea91\",\"type\":\"ColumnDataSource\"}},\"id\":\"eb78861c-b3bb-4cb8-a7d3-64394e075a20\",\"type\":\"CDSView\"},{\"attributes\":{\"callback\":null},\"id\":\"55f88554-0cdc-413d-be56-1259816418ef\",\"type\":\"DataRange1d\"},{\"attributes\":{\"fill_alpha\":{\"value\":0.1},\"fill_color\":{\"value\":\"#1f77b4\"},\"line_alpha\":{\"value\":0.1},\"line_color\":{\"value\":\"#1f77b4\"},\"size\":{\"units\":\"screen\",\"value\":10},\"x\":{\"field\":\"x\"},\"y\":{\"field\":\"y\"}},\"id\":\"04c652f9-4e45-4370-a773-84f4f283d1de\",\"type\":\"Triangle\"},{\"attributes\":{},\"id\":\"c04f022e-ff9c-4baf-8ac6-a09f40eae1bc\",\"type\":\"LinearScale\"},{\"attributes\":{\"callback\":null},\"id\":\"7b012100-0f94-4a20-9242-1e5d435b3a1b\",\"type\":\"DataRange1d\"},{\"attributes\":{\"active_drag\":\"auto\",\"active_inspect\":\"auto\",\"active_scroll\":\"auto\",\"active_tap\":\"auto\",\"tools\":[{\"id\":\"ade7d7d4-5dc4-4535-8e13-c6eebcc9137c\",\"type\":\"PanTool\"},{\"id\":\"cb79bfaf-0350-41f9-bbe6-7f0955e9591b\",\"type\":\"WheelZoomTool\"},{\"id\":\"2ebd62cf-1979-4e28-9fe1-ff8f2de76a75\",\"type\":\"BoxZoomTool\"},{\"id\":\"6df7b27e-b65b-4e19-b72c-5fc6bb68c66d\",\"type\":\"SaveTool\"},{\"id\":\"ab5d9413-3efc-4929-96e5-08119c3ef00f\",\"type\":\"ResetTool\"},{\"id\":\"60843c6c-3673-4cf6-ae1f-5ef6ec600f6f\",\"type\":\"HelpTool\"}]},\"id\":\"67304e55-0e43-4a65-bea9-f4b26736998b\",\"type\":\"Toolbar\"},{\"attributes\":{\"plot\":{\"id\":\"de0ae580-6553-460b-b63f-b5ad1091fb1f\",\"subtype\":\"Figure\",\"type\":\"Plot\"},\"ticker\":{\"id\":\"a377ac50-cb1f-4a1c-97e0-18387a5409bb\",\"type\":\"BasicTicker\"}},\"id\":\"2361bfed-46d3-4eda-bc9a-bb7fce1f287c\",\"type\":\"Grid\"},{\"attributes\":{\"callback\":null},\"id\":\"6cb4aa6b-4fa5-499b-9134-d6d3eb303ae3\",\"type\":\"DataRange1d\"},{\"attributes\":{\"formatter\":{\"id\":\"f7586252-e808-45e2-8b11-e31afa6fe857\",\"type\":\"BasicTickFormatter\"},\"plot\":{\"id\":\"de0ae580-6553-460b-b63f-b5ad1091fb1f\",\"subtype\":\"Figure\",\"type\":\"Plot\"},\"ticker\":{\"id\":\"a377ac50-cb1f-4a1c-97e0-18387a5409bb\",\"type\":\"BasicTicker\"}},\"id\":\"621b5a4b-5f44-40bb-bdcf-43012958cce5\",\"type\":\"LinearAxis\"},{\"attributes\":{\"callback\":null,\"column_names\":[\"x\",\"y\"],\"data\":{\"x\":[0,1,2,3,4,5,6,7,8,9,10],\"y\":[0,1,2,3,4,5,6,7,8,9,10]}},\"id\":\"90b4cb9d-71fe-4530-95cd-5fe28e7b7cc0\",\"type\":\"ColumnDataSource\"},{\"attributes\":{},\"id\":\"a377ac50-cb1f-4a1c-97e0-18387a5409bb\",\"type\":\"BasicTicker\"},{\"attributes\":{\"formatter\":{\"id\":\"3a21bee7-10d8-485e-bac4-dd844e2499ca\",\"type\":\"BasicTickFormatter\"},\"plot\":{\"id\":\"de0ae580-6553-460b-b63f-b5ad1091fb1f\",\"subtype\":\"Figure\",\"type\":\"Plot\"},\"ticker\":{\"id\":\"fcdc1c94-19f9-4a6a-b119-eb8074e8e0a4\",\"type\":\"BasicTicker\"}},\"id\":\"9353f842-3051-40eb-a4bf-150e822de221\",\"type\":\"LinearAxis\"},{\"attributes\":{},\"id\":\"fcdc1c94-19f9-4a6a-b119-eb8074e8e0a4\",\"type\":\"BasicTicker\"},{\"attributes\":{\"dimension\":1,\"plot\":{\"id\":\"de0ae580-6553-460b-b63f-b5ad1091fb1f\",\"subtype\":\"Figure\",\"type\":\"Plot\"},\"ticker\":{\"id\":\"fcdc1c94-19f9-4a6a-b119-eb8074e8e0a4\",\"type\":\"BasicTicker\"}},\"id\":\"a042cbe9-6377-47d5-9a87-4cc055f6d428\",\"type\":\"Grid\"},{\"attributes\":{\"data_source\":{\"id\":\"068b6766-b402-47a2-9108-a069eb86ea91\",\"type\":\"ColumnDataSource\"},\"glyph\":{\"id\":\"f77bcfbb-f093-4740-9993-0a26de5a476c\",\"type\":\"Triangle\"},\"hover_glyph\":null,\"muted_glyph\":null,\"nonselection_glyph\":{\"id\":\"04c652f9-4e45-4370-a773-84f4f283d1de\",\"type\":\"Triangle\"},\"selection_glyph\":null,\"view\":{\"id\":\"eb78861c-b3bb-4cb8-a7d3-64394e075a20\",\"type\":\"CDSView\"}},\"id\":\"05ed7945-bebc-41c2-be9d-d77e2d93b49b\",\"type\":\"GlyphRenderer\"},{\"attributes\":{\"fill_alpha\":{\"value\":0.5},\"fill_color\":{\"value\":\"firebrick\"},\"line_alpha\":{\"value\":0.5},\"line_color\":{\"value\":\"firebrick\"},\"size\":{\"units\":\"screen\",\"value\":10},\"x\":{\"field\":\"x\"},\"y\":{\"field\":\"y\"}},\"id\":\"f77bcfbb-f093-4740-9993-0a26de5a476c\",\"type\":\"Triangle\"},{\"attributes\":{\"below\":[{\"id\":\"9515e804-abf6-401c-ae79-95afe0b608a6\",\"type\":\"LinearAxis\"}],\"left\":[{\"id\":\"8da36f95-2ec6-4eda-bbb1-d4586d869722\",\"type\":\"LinearAxis\"}],\"plot_height\":250,\"plot_width\":250,\"renderers\":[{\"id\":\"9515e804-abf6-401c-ae79-95afe0b608a6\",\"type\":\"LinearAxis\"},{\"id\":\"4308e521-bfc3-43cc-b69b-fdcbeec1d2ca\",\"type\":\"Grid\"},{\"id\":\"8da36f95-2ec6-4eda-bbb1-d4586d869722\",\"type\":\"LinearAxis\"},{\"id\":\"a612502a-da3c-4306-bc4c-268c48e9ac82\",\"type\":\"Grid\"},{\"id\":\"1ebe1795-7176-475a-8296-fa29592e0212\",\"type\":\"BoxAnnotation\"},{\"id\":\"2745ac72-3ffe-4b35-ba4a-539b9fa96e42\",\"type\":\"GlyphRenderer\"}],\"title\":null,\"toolbar\":{\"id\":\"607e8086-94ff-4b2e-8900-77355a18b07c\",\"type\":\"Toolbar\"},\"x_range\":{\"id\":\"097dbffe-2709-4613-b5bd-233823483e9a\",\"type\":\"DataRange1d\"},\"x_scale\":{\"id\":\"484d6b06-a687-4e67-bdb1-65ada5291939\",\"type\":\"LinearScale\"},\"y_range\":{\"id\":\"f74ecbc5-8b2b-4c80-9a58-f656dc5f9e3f\",\"type\":\"DataRange1d\"},\"y_scale\":{\"id\":\"834cddb0-eb3f-4257-9154-3bc09534c503\",\"type\":\"LinearScale\"}},\"id\":\"39821fc7-0869-4d01-af1f-8032ff605674\",\"subtype\":\"Figure\",\"type\":\"Plot\"},{\"attributes\":{\"bottom_units\":\"screen\",\"fill_alpha\":{\"value\":0.5},\"fill_color\":{\"value\":\"lightgrey\"},\"left_units\":\"screen\",\"level\":\"overlay\",\"line_alpha\":{\"value\":1.0},\"line_color\":{\"value\":\"black\"},\"line_dash\":[4,4],\"line_width\":{\"value\":2},\"plot\":null,\"render_mode\":\"css\",\"right_units\":\"screen\",\"top_units\":\"screen\"},\"id\":\"74f3ea97-58bf-4532-b55b-2dd298091370\",\"type\":\"BoxAnnotation\"},{\"attributes\":{},\"id\":\"710e9451-c6cc-4642-92e1-30c04d578b69\",\"type\":\"PanTool\"},{\"attributes\":{\"below\":[{\"id\":\"16a5735e-6a63-4ca4-8b42-240ce7134216\",\"type\":\"LinearAxis\"}],\"left\":[{\"id\":\"6228463c-6b5c-4180-be20-88b09b7e0ec7\",\"type\":\"LinearAxis\"}],\"plot_height\":250,\"plot_width\":250,\"renderers\":[{\"id\":\"16a5735e-6a63-4ca4-8b42-240ce7134216\",\"type\":\"LinearAxis\"},{\"id\":\"1932548c-aecd-4ab7-bdb0-d1f3f41c0bcd\",\"type\":\"Grid\"},{\"id\":\"6228463c-6b5c-4180-be20-88b09b7e0ec7\",\"type\":\"LinearAxis\"},{\"id\":\"b6ca3bb1-9155-4c88-9ac8-f58b849fd32a\",\"type\":\"Grid\"},{\"id\":\"943ccb4f-7b7b-4c42-bd6b-56e13b8187ac\",\"type\":\"BoxAnnotation\"},{\"id\":\"3b3c763d-5020-4dda-b0c2-366c05875e7d\",\"type\":\"GlyphRenderer\"}],\"title\":null,\"toolbar\":{\"id\":\"67304e55-0e43-4a65-bea9-f4b26736998b\",\"type\":\"Toolbar\"},\"x_range\":{\"id\":\"82a8edab-1ca0-4e40-91bd-a5fb094afb5a\",\"type\":\"DataRange1d\"},\"x_scale\":{\"id\":\"c04f022e-ff9c-4baf-8ac6-a09f40eae1bc\",\"type\":\"LinearScale\"},\"y_range\":{\"id\":\"6cb4aa6b-4fa5-499b-9134-d6d3eb303ae3\",\"type\":\"DataRange1d\"},\"y_scale\":{\"id\":\"3a0227f0-ffe5-4101-9d90-1da382b65472\",\"type\":\"LinearScale\"}},\"id\":\"f3606a6c-2b35-4dce-b211-897d34a7d28c\",\"subtype\":\"Figure\",\"type\":\"Plot\"},{\"attributes\":{\"fill_alpha\":{\"value\":0.5},\"fill_color\":{\"value\":\"olive\"},\"line_alpha\":{\"value\":0.5},\"line_color\":{\"value\":\"olive\"},\"size\":{\"units\":\"screen\",\"value\":10},\"x\":{\"field\":\"x\"},\"y\":{\"field\":\"y\"}},\"id\":\"c3e263a0-3740-4cc3-8682-b07ae664319d\",\"type\":\"Square\"},{\"attributes\":{},\"id\":\"9233f9d1-9d78-4555-be0e-357e4631e7d1\",\"type\":\"WheelZoomTool\"},{\"attributes\":{\"overlay\":{\"id\":\"74f3ea97-58bf-4532-b55b-2dd298091370\",\"type\":\"BoxAnnotation\"}},\"id\":\"3aa2b285-c42f-473e-923e-9c0bb8e47e33\",\"type\":\"BoxZoomTool\"},{\"attributes\":{},\"id\":\"c86ed642-7e6e-4a6f-9386-0f930814892e\",\"type\":\"SaveTool\"},{\"attributes\":{},\"id\":\"9374474a-fe5e-4720-b18e-87624cd66d66\",\"type\":\"ResetTool\"},{\"attributes\":{},\"id\":\"789493a7-f5ec-4fa5-a828-92bd9a64b29a\",\"type\":\"HelpTool\"},{\"attributes\":{\"callback\":null},\"id\":\"097dbffe-2709-4613-b5bd-233823483e9a\",\"type\":\"DataRange1d\"},{\"attributes\":{\"fill_alpha\":{\"value\":0.1},\"fill_color\":{\"value\":\"#1f77b4\"},\"line_alpha\":{\"value\":0.1},\"line_color\":{\"value\":\"#1f77b4\"},\"size\":{\"units\":\"screen\",\"value\":10},\"x\":{\"field\":\"x\"},\"y\":{\"field\":\"y\"}},\"id\":\"a03ee512-7a88-4d48-aa23-3bd5529a6c00\",\"type\":\"Circle\"},{\"attributes\":{\"callback\":null},\"id\":\"82a8edab-1ca0-4e40-91bd-a5fb094afb5a\",\"type\":\"DataRange1d\"},{\"attributes\":{},\"id\":\"f7586252-e808-45e2-8b11-e31afa6fe857\",\"type\":\"BasicTickFormatter\"},{\"attributes\":{\"callback\":null,\"column_names\":[\"x\",\"y\"],\"data\":{\"x\":[0,1,2,3,4,5,6,7,8,9,10],\"y\":[5,4,3,2,1,0,1,2,3,4,5]}},\"id\":\"6a0230f2-5e10-4087-9b04-c481ef121ccb\",\"type\":\"ColumnDataSource\"},{\"attributes\":{\"active_drag\":\"auto\",\"active_inspect\":\"auto\",\"active_scroll\":\"auto\",\"active_tap\":\"auto\",\"tools\":[{\"id\":\"76376543-f42d-44b4-8206-7c544be4eb54\",\"type\":\"PanTool\"},{\"id\":\"4b84c794-1f8a-4b47-8050-cfddcc62ea45\",\"type\":\"WheelZoomTool\"},{\"id\":\"42847528-aabf-411f-b035-7d936a5d1e3e\",\"type\":\"BoxZoomTool\"},{\"id\":\"62afe1c2-0732-4f22-bfae-e7fe03f5feb4\",\"type\":\"SaveTool\"},{\"id\":\"c4358060-2a01-45e7-a169-4abb8bb69544\",\"type\":\"ResetTool\"},{\"id\":\"9dad4d10-b4dc-482d-8ad2-b64334a73012\",\"type\":\"HelpTool\"}]},\"id\":\"607e8086-94ff-4b2e-8900-77355a18b07c\",\"type\":\"Toolbar\"},{\"attributes\":{\"callback\":null},\"id\":\"f74ecbc5-8b2b-4c80-9a58-f656dc5f9e3f\",\"type\":\"DataRange1d\"}],\"root_ids\":[\"458739f7-2081-4be2-8308-e3fdbc7942de\"]},\"title\":\"Bokeh Application\",\"version\":\"0.12.10\"}};\n",
       "    var render_items = [{\"docid\":\"ef14c093-d26b-4540-b7af-d4536404f07f\",\"elementid\":\"74de5e2f-2320-4af8-ba14-6e08bc37b440\",\"modelid\":\"458739f7-2081-4be2-8308-e3fdbc7942de\"}];\n",
       "\n",
       "    root.Bokeh.embed.embed_items(docs_json, render_items);\n",
       "  }\n",
       "\n",
       "  if (root.Bokeh !== undefined) {\n",
       "    embed_document(root);\n",
       "  } else {\n",
       "    var attempts = 0;\n",
       "    var timer = setInterval(function(root) {\n",
       "      if (root.Bokeh !== undefined) {\n",
       "        embed_document(root);\n",
       "        clearInterval(timer);\n",
       "      }\n",
       "      attempts++;\n",
       "      if (attempts > 100) {\n",
       "        console.log(\"Bokeh: ERROR: Unable to embed document because BokehJS library is missing\")\n",
       "        clearInterval(timer);\n",
       "      }\n",
       "    }, 10, root)\n",
       "  }\n",
       "})(window);"
      ],
      "application/vnd.bokehjs_exec.v0+json": ""
     },
     "metadata": {
      "application/vnd.bokehjs_exec.v0+json": {
       "id": "458739f7-2081-4be2-8308-e3fdbc7942de"
      }
     },
     "output_type": "display_data"
    }
   ],
   "source": [
    "# put the results in a column and show\n",
    "from bokeh.layouts import column\n",
    "show(column(s1, s2, s3))"
   ]
  },
  {
   "cell_type": "markdown",
   "metadata": {},
   "source": [
    "#### Widgets"
   ]
  },
  {
   "cell_type": "code",
   "execution_count": 4,
   "metadata": {},
   "outputs": [
    {
     "data": {
      "text/html": [
       "\n",
       "<div class=\"bk-root\">\n",
       "    <div class=\"bk-plotdiv\" id=\"fff4c944-81fd-4afa-97dd-66acedcdddca\"></div>\n",
       "</div>"
      ]
     },
     "metadata": {},
     "output_type": "display_data"
    },
    {
     "data": {
      "application/javascript": [
       "(function(root) {\n",
       "  function embed_document(root) {\n",
       "    var docs_json = {\"9a5d478f-43fb-4454-a836-bead82501d57\":{\"roots\":{\"references\":[{\"attributes\":{\"callback\":null,\"icon\":null,\"label\":\"Click Here\"},\"id\":\"f59717b7-96e7-464e-96aa-107fd575898f\",\"type\":\"Button\"},{\"attributes\":{\"active\":0,\"callback\":null,\"labels\":[\"Option 1\",\"Option 2\",\"Option 3\"]},\"id\":\"a9b9658c-862a-4d78-9562-839b78844e0c\",\"type\":\"RadioButtonGroup\"},{\"attributes\":{\"callback\":null,\"options\":[\"AMZN\",\"GOOG\",\"SPY\",\"FB\"],\"title\":\"Option:\",\"value\":\"foo\"},\"id\":\"0c971b43-c514-4d80-ac40-a56729eef611\",\"type\":\"Select\"},{\"attributes\":{\"children\":[{\"id\":\"f59717b7-96e7-464e-96aa-107fd575898f\",\"type\":\"Button\"},{\"id\":\"a9b9658c-862a-4d78-9562-839b78844e0c\",\"type\":\"RadioButtonGroup\"},{\"id\":\"0c971b43-c514-4d80-ac40-a56729eef611\",\"type\":\"Select\"},{\"id\":\"69b2bed6-e103-4e7f-8f0b-d370ffdf2f32\",\"type\":\"Slider\"}],\"width\":300},\"id\":\"82f851ac-c988-486f-a856-631ba07f8a02\",\"type\":\"WidgetBox\"},{\"attributes\":{\"callback\":null,\"end\":10,\"start\":0,\"step\":0.1,\"title\":\"Slider\",\"value\":1},\"id\":\"69b2bed6-e103-4e7f-8f0b-d370ffdf2f32\",\"type\":\"Slider\"}],\"root_ids\":[\"82f851ac-c988-486f-a856-631ba07f8a02\"]},\"title\":\"Bokeh Application\",\"version\":\"0.12.10\"}};\n",
       "    var render_items = [{\"docid\":\"9a5d478f-43fb-4454-a836-bead82501d57\",\"elementid\":\"fff4c944-81fd-4afa-97dd-66acedcdddca\",\"modelid\":\"82f851ac-c988-486f-a856-631ba07f8a02\"}];\n",
       "\n",
       "    root.Bokeh.embed.embed_items(docs_json, render_items);\n",
       "  }\n",
       "\n",
       "  if (root.Bokeh !== undefined) {\n",
       "    embed_document(root);\n",
       "  } else {\n",
       "    var attempts = 0;\n",
       "    var timer = setInterval(function(root) {\n",
       "      if (root.Bokeh !== undefined) {\n",
       "        embed_document(root);\n",
       "        clearInterval(timer);\n",
       "      }\n",
       "      attempts++;\n",
       "      if (attempts > 100) {\n",
       "        console.log(\"Bokeh: ERROR: Unable to embed document because BokehJS library is missing\")\n",
       "        clearInterval(timer);\n",
       "      }\n",
       "    }, 10, root)\n",
       "  }\n",
       "})(window);"
      ],
      "application/vnd.bokehjs_exec.v0+json": ""
     },
     "metadata": {
      "application/vnd.bokehjs_exec.v0+json": {
       "id": "82f851ac-c988-486f-a856-631ba07f8a02"
      }
     },
     "output_type": "display_data"
    }
   ],
   "source": [
    "from bokeh.io import output_file, show\n",
    "from bokeh.layouts import widgetbox\n",
    "from bokeh.models.widgets import Button, RadioButtonGroup, Select, Slider\n",
    "\n",
    "# create some widgets\n",
    "button_1 = Button(label=\"Click Here\")\n",
    "\n",
    "button_group = RadioButtonGroup(labels=[\"Option 1\", \"Option 2\", \"Option 3\"], active=0)\n",
    "\n",
    "select = Select(title=\"Option:\", value=\"foo\", options=[\"AMZN\", \"GOOG\", \"SPY\", \"FB\"])\n",
    "\n",
    "slider = Slider(start=0, end=10, value=1, step=.1, title=\"Slider\")\n",
    "\n",
    "# put the results in a row\n",
    "show(widgetbox(button_1, button_group, select, slider, width=300))"
   ]
  },
  {
   "cell_type": "markdown",
   "metadata": {},
   "source": [
    "#### Example 1: Stock Returns Interactive Dashboard\n",
    "\n",
    "Note: Start the Bokeh Server Application using \"python -m bokeh serve <FileName>.py\" from Anaconda terminal"
   ]
  },
  {
   "cell_type": "code",
   "execution_count": 5,
   "metadata": {},
   "outputs": [
    {
     "data": {
      "text/html": [
       "\n",
       "        <iframe\n",
       "            width=\"900\"\n",
       "            height=\"900\"\n",
       "            src=\"http://localhost:5006/Bokeh_Stocks_Viz\"\n",
       "            frameborder=\"0\"\n",
       "            allowfullscreen\n",
       "        ></iframe>\n",
       "        "
      ],
      "text/plain": [
       "<IPython.lib.display.IFrame at 0x258f623a518>"
      ]
     },
     "execution_count": 5,
     "metadata": {},
     "output_type": "execute_result"
    }
   ],
   "source": [
    "from IPython.display import IFrame\n",
    "IFrame('http://localhost:5006/Bokeh_Stocks_Viz', width=900, height=900)"
   ]
  },
  {
   "cell_type": "markdown",
   "metadata": {},
   "source": [
    "#### Example 2: Stock Correlation Interactive Dashboard\n",
    "\n",
    "Note: Start the Bokeh Server Application using \"python -m bokeh serve <FileName>.py\" from Anaconda terminal"
   ]
  },
  {
   "cell_type": "code",
   "execution_count": 1,
   "metadata": {},
   "outputs": [
    {
     "data": {
      "text/html": [
       "\n",
       "        <iframe\n",
       "            width=\"900\"\n",
       "            height=\"900\"\n",
       "            src=\"http://localhost:5006/StocksCorrelationHeatmap\"\n",
       "            frameborder=\"0\"\n",
       "            allowfullscreen\n",
       "        ></iframe>\n",
       "        "
      ],
      "text/plain": [
       "<IPython.lib.display.IFrame at 0x244f79585c0>"
      ]
     },
     "execution_count": 1,
     "metadata": {},
     "output_type": "execute_result"
    }
   ],
   "source": [
    "from IPython.display import IFrame\n",
    "IFrame('http://localhost:5006/StocksCorrelationHeatmap', width=900, height=900)"
   ]
  },
  {
   "cell_type": "code",
   "execution_count": null,
   "metadata": {
    "collapsed": true
   },
   "outputs": [],
   "source": []
  },
  {
   "cell_type": "code",
   "execution_count": null,
   "metadata": {
    "collapsed": true
   },
   "outputs": [],
   "source": []
  }
 ],
 "metadata": {
  "kernelspec": {
   "display_name": "Python 3",
   "language": "python",
   "name": "python3"
  },
  "language_info": {
   "codemirror_mode": {
    "name": "ipython",
    "version": 3
   },
   "file_extension": ".py",
   "mimetype": "text/x-python",
   "name": "python",
   "nbconvert_exporter": "python",
   "pygments_lexer": "ipython3",
   "version": "3.6.3"
  }
 },
 "nbformat": 4,
 "nbformat_minor": 2
}
