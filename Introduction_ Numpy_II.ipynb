{
 "cells": [
  {
   "cell_type": "markdown",
   "metadata": {},
   "source": [
    "<h3> Introduction to Numpy </h3>\n",
    "In this section we will learn about numpy package that helps in working with arrays.\n",
    "<h3> References </h3>\n",
    "Python for Data Analysis, 2nd Edition <br>\n",
    "<a href=\"https://docs.scipy.org/doc/numpy-dev/user/quickstart.html\"> Numpy Tutorial </a><br>\n"
   ]
  },
  {
   "cell_type": "markdown",
   "metadata": {
    "collapsed": true
   },
   "source": [
    "#### Histograms"
   ]
  },
  {
   "cell_type": "code",
   "execution_count": 1,
   "metadata": {
    "collapsed": true
   },
   "outputs": [],
   "source": [
    "import numpy as np\n",
    "import matplotlib.pyplot as plt"
   ]
  },
  {
   "cell_type": "markdown",
   "metadata": {},
   "source": [
    "### What is historgram?"
   ]
  },
  {
   "cell_type": "code",
   "execution_count": 2,
   "metadata": {
    "collapsed": true
   },
   "outputs": [],
   "source": [
    "sa = np.array( [1, 2, 3, 4, 5] )\n",
    "data = [ np.random.choice(sa) for _ in range(1000) ]\n",
    "#print (data)"
   ]
  },
  {
   "cell_type": "code",
   "execution_count": 3,
   "metadata": {
    "collapsed": true
   },
   "outputs": [],
   "source": [
    "# hist[i] number of samples in bins[i]\n",
    "# number of samples in bin 0 is  defined by binedges[0]<= values of v < bins_edges[1]\n",
    "binedges = np.array( [1, 2, 3, 4, 5, 6] )\n",
    "hist, _ = np.histogram(data, bins=binedges)"
   ]
  },
  {
   "cell_type": "code",
   "execution_count": 4,
   "metadata": {},
   "outputs": [
    {
     "data": {
      "image/png": "[encoded data removed]",
      "text/plain": [
       "<matplotlib.figure.Figure at 0x17213e43978>"
      ]
     },
     "metadata": {},
     "output_type": "display_data"
    }
   ],
   "source": [
    "plt.hist(data, bins=binedges)\n",
    "plt.show()"
   ]
  },
  {
   "cell_type": "code",
   "execution_count": 7,
   "metadata": {},
   "outputs": [
    {
     "data": {
      "text/plain": [
       "203"
      ]
     },
     "execution_count": 7,
     "metadata": {},
     "output_type": "execute_result"
    }
   ],
   "source": [
    "data.count(1)"
   ]
  },
  {
   "cell_type": "code",
   "execution_count": 8,
   "metadata": {
    "collapsed": true
   },
   "outputs": [],
   "source": [
    "hist, _ = np.histogram(data, bins=binedges, density=True)"
   ]
  },
  {
   "cell_type": "code",
   "execution_count": 9,
   "metadata": {},
   "outputs": [
    {
     "data": {
      "text/plain": [
       "array([ 0.203,  0.204,  0.177,  0.191,  0.225])"
      ]
     },
     "execution_count": 9,
     "metadata": {},
     "output_type": "execute_result"
    }
   ],
   "source": [
    "hist"
   ]
  },
  {
   "cell_type": "markdown",
   "metadata": {},
   "source": [
    "density : bool, optional\n",
    "\n",
    "If False, the result will contain the number of samples in each bin. If True, the result is the value of the probability density function at the bin, normalized such that the integral over the range is 1. Note that the sum of the histogram values will not be equal to 1 unless bins of unity width are chosen; it is not a probability mass function."
   ]
  },
  {
   "cell_type": "code",
   "execution_count": 10,
   "metadata": {
    "collapsed": true
   },
   "outputs": [],
   "source": [
    "w = np.diff(binedges)"
   ]
  },
  {
   "cell_type": "code",
   "execution_count": 11,
   "metadata": {},
   "outputs": [
    {
     "data": {
      "text/plain": [
       "1.0000000000000002"
      ]
     },
     "execution_count": 11,
     "metadata": {},
     "output_type": "execute_result"
    }
   ],
   "source": [
    "isum = w * hist\n",
    "np.sum(isum)"
   ]
  },
  {
   "cell_type": "markdown",
   "metadata": {},
   "source": [
    "Exercise 1: Create 1000 random integer data in the range 0 to 9 with uniform distribution using numpy function np.random.randint(). Create a histogram using pre-specified binedges = [0, 2, 4, 6, 8, 10]. Plot the historgram. \n",
    "For density = True option in the numpy funtion historgram() show that the histogram values in the bins are normalzied so that the integral over the range is 1. "
   ]
  },
  {
   "cell_type": "code",
   "execution_count": 18,
   "metadata": {},
   "outputs": [
    {
     "data": {
      "image/png": "[encoded data removed]",
      "text/plain": [
       "<matplotlib.figure.Figure at 0x172103ffb00>"
      ]
     },
     "metadata": {},
     "output_type": "display_data"
    },
    {
     "data": {
      "text/plain": [
       "2000"
      ]
     },
     "execution_count": 18,
     "metadata": {},
     "output_type": "execute_result"
    }
   ],
   "source": [
    "data = np.random.randint(0,10,1000)\n",
    "\n",
    "binedges = np.array( [0, 2, 4, 6, 8, 10] )\n",
    "hist, _ = np.histogram(data, bins=binedges)\n",
    "plt.hist(data, bins=binedges)\n",
    "plt.show()\n",
    "w = np.diff(binedges)\n",
    "isum = w * hist\n",
    "np.sum(isum)"
   ]
  },
  {
   "cell_type": "code",
   "execution_count": 19,
   "metadata": {
    "collapsed": true
   },
   "outputs": [],
   "source": [
    "rng = np.random.RandomState(10)  # deterministic random data\n",
    "mu, sigma = 2, 0.5\n",
    "v = rng.normal(mu,sigma,1000)"
   ]
  },
  {
   "cell_type": "code",
   "execution_count": 20,
   "metadata": {},
   "outputs": [
    {
     "name": "stdout",
     "output_type": "stream",
     "text": [
      "1.99272168219\n",
      "0.468978878598\n",
      "[  4   8  52 122 203 260 191 113  28  19]\n",
      "[ 0.39779933  0.69201491  0.98623049  1.28044608  1.57466166  1.86887724\n",
      "  2.16309282  2.45730841  2.75152399  3.04573957  3.33995515]\n"
     ]
    }
   ],
   "source": [
    "print (np.mean(v))\n",
    "print (np.std(v))\n",
    "hist, bin_edges = np.histogram(v, bins=10, density=False)\n",
    "print (hist)\n",
    "print (bin_edges)"
   ]
  },
  {
   "cell_type": "code",
   "execution_count": 21,
   "metadata": {},
   "outputs": [
    {
     "data": {
      "image/png": "[encoded data removed]",
      "text/plain": [
       "<matplotlib.figure.Figure at 0x172140c6a20>"
      ]
     },
     "metadata": {},
     "output_type": "display_data"
    }
   ],
   "source": [
    "plt.hist(v, bins=bin_edges)\n",
    "plt.show()"
   ]
  },
  {
   "cell_type": "code",
   "execution_count": 22,
   "metadata": {},
   "outputs": [
    {
     "name": "stdout",
     "output_type": "stream",
     "text": [
      "4 0.397799327835 0.692014910451\n",
      "1000\n"
     ]
    }
   ],
   "source": [
    "# hist[i] number of samples in bins[i]\n",
    "# number of samples in bin 0 is  defined by bin_edges[0]<= values of v < bins_edges[1]\n",
    "print (hist[0], bin_edges[0], bin_edges[1]) \n",
    "print (hist.sum())"
   ]
  },
  {
   "cell_type": "code",
   "execution_count": 23,
   "metadata": {},
   "outputs": [
    {
     "name": "stdout",
     "output_type": "stream",
     "text": [
      "[ 0.01359547  0.02719095  0.17674115  0.41466193  0.68997025  0.88370574\n",
      "  0.64918383  0.38407211  0.09516831  0.0645785 ]\n",
      "3.39886824182\n",
      "[ 0.29421558  0.29421558  0.29421558  0.29421558  0.29421558  0.29421558\n",
      "  0.29421558  0.29421558  0.29421558  0.29421558]\n"
     ]
    },
    {
     "data": {
      "text/plain": [
       "1.0"
      ]
     },
     "execution_count": 23,
     "metadata": {},
     "output_type": "execute_result"
    }
   ],
   "source": [
    "histT, bin_edges = np.histogram(v, bins=10, density=True) \n",
    "# here hist[i] is the pdf value at bin i and is normalized such that integral over the range is 1\n",
    "print (histT)\n",
    "print (histT.sum())\n",
    "print (np.diff(bin_edges))\n",
    "np.sum(histT * np.diff(bin_edges))"
   ]
  },
  {
   "cell_type": "code",
   "execution_count": 24,
   "metadata": {
    "scrolled": true
   },
   "outputs": [
    {
     "name": "stdout",
     "output_type": "stream",
     "text": [
      "0.250691536527\n",
      "3.4870629453\n",
      "[ 0.25069154  0.28338216  0.31607278  0.3487634   0.38145402  0.41414464\n",
      "  0.44683526  0.47952588  0.5122165   0.54490712  0.57759774  0.61028836\n",
      "  0.64297898  0.6756696   0.70836022  0.74105084  0.77374146  0.80643208\n",
      "  0.8391227   0.87181332  0.90450394  0.93719456  0.96988518  1.0025758\n",
      "  1.03526642  1.06795704  1.10064766  1.13333828  1.1660289   1.19871952\n",
      "  1.23141015  1.26410077  1.29679139  1.32948201  1.36217263  1.39486325\n",
      "  1.42755387  1.46024449  1.49293511  1.52562573  1.55831635  1.59100697\n",
      "  1.62369759  1.65638821  1.68907883  1.72176945  1.75446007  1.78715069\n",
      "  1.81984131  1.85253193  1.88522255  1.91791317  1.95060379  1.98329441\n",
      "  2.01598503  2.04867565  2.08136627  2.11405689  2.14674751  2.17943813\n",
      "  2.21212875  2.24481937  2.27750999  2.31020061  2.34289124  2.37558186\n",
      "  2.40827248  2.4409631   2.47365372  2.50634434  2.53903496  2.57172558\n",
      "  2.6044162   2.63710682  2.66979744  2.70248806  2.73517868  2.7678693\n",
      "  2.80055992  2.83325054  2.86594116  2.89863178  2.9313224   2.96401302\n",
      "  2.99670364  3.02939426  3.06208488  3.0947755   3.12746612  3.16015674\n",
      "  3.19284736  3.22553798  3.2582286   3.29091922  3.32360984  3.35630046\n",
      "  3.38899108  3.4216817   3.45437233  3.48706295]\n"
     ]
    },
    {
     "data": {
      "image/png": "[encoded data removed]",
      "text/plain": [
       "<matplotlib.figure.Figure at 0x1721405b470>"
      ]
     },
     "metadata": {},
     "output_type": "display_data"
    }
   ],
   "source": [
    "import matplotlib.mlab as mlab   # for plotting pdf\n",
    "plt.hist(v, normed=True, bins=bin_edges)\n",
    "xmin, xmax = plt.xlim()\n",
    "print (xmin)\n",
    "print (xmax)\n",
    "x = np.linspace(xmin, xmax, 100)\n",
    "print (x)\n",
    "p = mlab.normpdf(x, mu, sigma)\n",
    "\n",
    "plt.plot(x, p, 'r', linewidth=2)\n",
    "plt.show()"
   ]
  },
  {
   "cell_type": "code",
   "execution_count": 25,
   "metadata": {},
   "outputs": [
    {
     "data": {
      "image/png": "[encoded data removed]",
      "text/plain": [
       "<matplotlib.figure.Figure at 0x172140c6c18>"
      ]
     },
     "metadata": {},
     "output_type": "display_data"
    }
   ],
   "source": [
    "plt.hist(v, normed=True, bins=bin_edges)\n",
    "xmin, xmax = plt.xlim()\n",
    "x = np.linspace(xmin, xmax, 100)\n",
    "p = mlab.normpdf(x, np.mean(v), np.std(v))\n",
    "plt.plot(x, p, 'r', linewidth=2)\n",
    "plt.show()"
   ]
  },
  {
   "cell_type": "code",
   "execution_count": null,
   "metadata": {
    "collapsed": true
   },
   "outputs": [],
   "source": [
    "histTP = histT * np.diff(bin_edges)\n",
    "print (histTP.sum()) #total area for the histogram plot\n",
    "#print (np.diff(bin_edges))\n",
    "#print (histTP)\n",
    "#print (hist/1000)"
   ]
  },
  {
   "cell_type": "markdown",
   "metadata": {},
   "source": [
    "Exercise 2: This exercise is based on a real data of  sale of individual residential property in Ames, Iowa. To complete this exercise, please read the property sale data from a csv file <a href = \"resources/train_house.csv\"> property sale data</a>  into a 2d numpy array. For this you need to download the csv file and save it on your local folder. You can then use the following command to read the csv file into a 2d array:\n",
    "\n",
    "house_data = np.genfromtxt('resources/train_house.csv', skip_header=1,delimiter=',')\n",
    "\n",
    "Also, open the file in excel or notepad to see the header information. For this exercise there are three columns of our interest: 1stFlrSF (first floor sq ft), 2ndFlrSF (second floor sq ft), and  SalePrice.  Extract these columns from 2d numpy array house_data using numpy indexing. You need to compute the price per sqft (sale price/total sq ft) for each house. Compute the historgram and plot the price per sqft data using various number of bins=10,20,30,40, and 50. Based on the computed mean and standard deviation of the data, plot the normal pdf to show the fit along with  each plot (as shown above).  \n"
   ]
  },
  {
   "cell_type": "code",
   "execution_count": 42,
   "metadata": {},
   "outputs": [
    {
     "name": "stdout",
     "output_type": "stream",
     "text": [
      "15.9641308929\n",
      "288.645488045\n"
     ]
    },
    {
     "data": {
      "image/png": "[encoded data removed]",
      "text/plain": [
       "<matplotlib.figure.Figure at 0x17214290f28>"
      ]
     },
     "metadata": {},
     "output_type": "display_data"
    }
   ],
   "source": [
    "house_data = np.genfromtxt('train_house.csv', skip_header=1,delimiter=',')\n",
    "\n",
    "ffsq = house_data[:, 43]\n",
    "sfsq = house_data[:, 44]\n",
    "sp = house_data[:, 80]\n",
    "ttsq = ffsq + sfsq\n",
    "persq = sp/ttsq\n",
    "\n",
    "import matplotlib.mlab as mlab   # for plotting pdf\n",
    "\n",
    "histT, bin_edges = np.histogram(persq, bins=40, density=True)\n",
    "plt.hist(persq, normed=True, bins=bin_edges)\n",
    "xmin, xmax = plt.xlim()\n",
    "print (xmin)\n",
    "print (xmax)\n",
    "\n",
    "x = np.linspace(xmin, xmax, 100)\n",
    "p = mlab.normpdf(x, np.mean(persq), np.std(persq))\n",
    "\n",
    "plt.plot(x, p, 'r', linewidth=2)\n",
    "plt.show()\n"
   ]
  },
  {
   "cell_type": "markdown",
   "metadata": {},
   "source": [
    "### Health Data\n",
    "http://www.healthdata.org/results/data-visualizations \n",
    "\n",
    "https://vizhub.healthdata.org/subnational/usa\n",
    "\n",
    "http://ghdx.healthdata.org/record/united-states-diabetes-prevalence-county-1999-2012\n",
    "\n",
    "Download the zip file, and open the excel file. Go to the control sheet, and delete first row and the third row. Next save the sheet as CSV file 'US_County_Diabetes_Control_Rate_1999_2012_full.csv'. "
   ]
  },
  {
   "cell_type": "code",
   "execution_count": null,
   "metadata": {
    "collapsed": true
   },
   "outputs": [],
   "source": [
    "ctrl_rate_data = np.genfromtxt('resources/US_County_Diabetes_Control_Rate_1999_2012_full.csv', skip_header=1, delimiter=',')"
   ]
  },
  {
   "cell_type": "markdown",
   "metadata": {},
   "source": [
    "Exercise 3: For this exercise there are two columns of our interest: \"Prevalence, 1999, Both Sexes\", and \"Prevalence, 2012, Both Sexes\". xtract these columns from 2d numpy array house_data using numpy indexing. Plot historgrams for 1999 and 2012 data using 40 bins. Based on the computed mean and standard deviation of the data, plot the normal pdf to show the fit along with  each historgram plot. Comment on the differences between the two historgrams and the corresponding fits with the normal distribution.  "
   ]
  },
  {
   "cell_type": "code",
   "execution_count": 46,
   "metadata": {},
   "outputs": [
    {
     "data": {
      "image/png": "[encoded data removed]",
      "text/plain": [
       "<matplotlib.figure.Figure at 0x172142d1908>"
      ]
     },
     "metadata": {},
     "output_type": "display_data"
    },
    {
     "data": {
      "image/png": "[encoded data removed]",
      "text/plain": [
       "<matplotlib.figure.Figure at 0x172158e47b8>"
      ]
     },
     "metadata": {},
     "output_type": "display_data"
    }
   ],
   "source": [
    "ctrl_rate_data = np.genfromtxt('US_County_Diabetes_Control_Rate_1999_2012_full.csv', skip_header=1, delimiter=',')\n",
    "f99 = ctrl_rate_data[:, 2]\n",
    "f12 = ctrl_rate_data[:, 41]\n",
    "import matplotlib.mlab as mlab   # for plotting pdf\n",
    "\n",
    "histT, bin_edges = np.histogram(f99, bins=40, density=True)\n",
    "plt.hist(f99, normed=True, bins=bin_edges)\n",
    "xmin, xmax = plt.xlim()\n",
    "\n",
    "\n",
    "x = np.linspace(xmin, xmax, 100)\n",
    "p = mlab.normpdf(x, np.mean(f99), np.std(f99))\n",
    "\n",
    "plt.plot(x, p, 'r', linewidth=2)\n",
    "plt.show()\n",
    "\n",
    "histT, bin_edges = np.histogram(f12, bins=40, density=True)\n",
    "plt.hist(f12, normed=True, bins=bin_edges)\n",
    "xmin, xmax = plt.xlim()\n",
    "\n",
    "\n",
    "x = np.linspace(xmin, xmax, 100)\n",
    "p = mlab.normpdf(x, np.mean(f12), np.std(f12))\n",
    "\n",
    "plt.plot(x, p, 'r', linewidth=2)\n",
    "plt.show()\n"
   ]
  },
  {
   "cell_type": "markdown",
   "metadata": {},
   "source": [
    "### Working with Sparse Matrices\n",
    "http://www.scipy-lectures.org/advanced/scipy_sparse/storage_schemes.html\n",
    "\n",
    "A matrix that has number of entries as zeroes is referred to as sparse and there are several storage schemes that take advantage of the sparsenenss and only store non-zeroes entries. \n",
    "\n",
    "Example sparse matrix: Netflix Rank Matrix of size 500K Users X  20K Movies (A row in this matrix is sparsely populated)\n",
    "\n",
    "For computational efficiency it becomes necessary to work with sparse storage structure of large sparse matrices. \n",
    "\n",
    "### Example Sparse Matrix Storage Formats\n",
    "\n",
    "####  Coordinate Format (COO)\n",
    "-  also known as the ‘ijv’ or ‘triplet’ format\n",
    "-  three NumPy arrays: row, col, data\n",
    "-  data[i] is value at (row[i], col[i]) position\n"
   ]
  },
  {
   "cell_type": "code",
   "execution_count": 48,
   "metadata": {
    "collapsed": true
   },
   "outputs": [],
   "source": [
    "import numpy as np\n",
    "import scipy.sparse as sps"
   ]
  },
  {
   "cell_type": "code",
   "execution_count": 49,
   "metadata": {},
   "outputs": [
    {
     "data": {
      "text/plain": [
       "matrix([[4, 0, 9, 0],\n",
       "        [0, 7, 0, 0],\n",
       "        [0, 0, 0, 0],\n",
       "        [0, 0, 0, 5]])"
      ]
     },
     "execution_count": 49,
     "metadata": {},
     "output_type": "execute_result"
    }
   ],
   "source": [
    "#create using (data, ij) tuple:\n",
    "row = np.array([0, 3, 1, 0])\n",
    "col = np.array([0, 3, 1, 2])\n",
    "data = np.array([4, 5, 7, 9])\n",
    "mtx = sps.coo_matrix((data, (row, col)), shape=(4, 4))\n",
    "mtx     \n",
    "mtx.todense()\n"
   ]
  },
  {
   "cell_type": "code",
   "execution_count": 50,
   "metadata": {},
   "outputs": [
    {
     "data": {
      "text/plain": [
       "matrix([[3, 0, 1, 0],\n",
       "        [0, 2, 0, 0],\n",
       "        [0, 0, 0, 0],\n",
       "        [0, 0, 0, 1]])"
      ]
     },
     "execution_count": 50,
     "metadata": {},
     "output_type": "execute_result"
    }
   ],
   "source": [
    "#duplicates entries are summed together:\n",
    "row = np.array([0, 0, 1, 3, 1, 0, 0])\n",
    "col = np.array([0, 2, 1, 3, 1, 0, 0])\n",
    "data = np.array([1, 1, 1, 1, 1, 1, 1])\n",
    "mtx = sps.coo_matrix((data, (row, col)), shape=(4, 4))\n",
    "mtx.todense()\n"
   ]
  },
  {
   "cell_type": "markdown",
   "metadata": {},
   "source": [
    "#### Compressed Sparse Row Format (CSR)\n",
    "- three NumPy arrays: indices, indptr, data\n",
    "- indices is array of column indices\n",
    "- data is array of corresponding nonzero values\n",
    "- indptr points to row starts in indices and data\n"
   ]
  },
  {
   "cell_type": "code",
   "execution_count": 51,
   "metadata": {},
   "outputs": [
    {
     "data": {
      "text/plain": [
       "matrix([[1, 0, 2],\n",
       "        [0, 0, 3],\n",
       "        [4, 5, 6]])"
      ]
     },
     "execution_count": 51,
     "metadata": {},
     "output_type": "execute_result"
    }
   ],
   "source": [
    "data = np.array([1, 2, 3, 4, 5, 6])\n",
    "indices = np.array([0, 2, 2, 0, 1, 2])\n",
    "indptr = np.array([0, 2, 3, 6])\n",
    "mtx = sps.csr_matrix((data, indices, indptr), shape=(3, 3))\n",
    "mtx.todense()"
   ]
  },
  {
   "cell_type": "code",
   "execution_count": 52,
   "metadata": {
    "collapsed": true
   },
   "outputs": [],
   "source": [
    "from scipy.sparse import lil_matrix\n",
    "from scipy.sparse.linalg import spsolve\n",
    "from numpy.linalg import solve, norm\n",
    "from numpy.random import rand\n",
    "import matplotlib.pylab as plt"
   ]
  },
  {
   "cell_type": "code",
   "execution_count": 53,
   "metadata": {
    "collapsed": true
   },
   "outputs": [],
   "source": [
    "A = lil_matrix((1000, 1000))\n",
    "A[0, :100] = rand(100)\n",
    "A[1, 100:200] = A[0, :100]\n",
    "A.setdiag(rand(1000))\n"
   ]
  },
  {
   "cell_type": "code",
   "execution_count": 54,
   "metadata": {},
   "outputs": [
    {
     "data": {
      "image/png": "[encoded data removed]",
      "text/plain": [
       "<matplotlib.figure.Figure at 0x172144d13c8>"
      ]
     },
     "metadata": {},
     "output_type": "display_data"
    }
   ],
   "source": [
    "# Now convert it to CSR format\n",
    "A = A.tocsr()    \n",
    "plt.spy(A)\n",
    "plt.show()"
   ]
  },
  {
   "cell_type": "code",
   "execution_count": 55,
   "metadata": {
    "collapsed": true
   },
   "outputs": [],
   "source": [
    "# Create RHS and solve A x = b for x:\n",
    "b = rand(1000)\n",
    "x = spsolve(A, b)"
   ]
  },
  {
   "cell_type": "code",
   "execution_count": 56,
   "metadata": {
    "collapsed": true
   },
   "outputs": [],
   "source": [
    "# Convert it to a dense matrix and solve, and check that the result is the same:\n",
    "x_ = solve(A.toarray(), b)"
   ]
  },
  {
   "cell_type": "code",
   "execution_count": 57,
   "metadata": {},
   "outputs": [
    {
     "data": {
      "text/plain": [
       "True"
      ]
     },
     "execution_count": 57,
     "metadata": {},
     "output_type": "execute_result"
    }
   ],
   "source": [
    "err = norm(x-x_)\n",
    "err < 1e-10\n"
   ]
  },
  {
   "cell_type": "markdown",
   "metadata": {},
   "source": [
    "Exercise 4: Create a sparse movie rank matrix for 200 users and 200 movies. For each user assign a random score of 1 to 5 for 3 to 5 randomly selected movies. Use spy() to visualize the randomly created matrix.\n",
    "HINT: Create three numpy arrays 'ijv' for coo format using numpy functions such as: np.random.choice(), np.random.randint(), np.full(). You may want to setup a loop over number of users for populating row and column index arrays. "
   ]
  },
  {
   "cell_type": "code",
   "execution_count": 63,
   "metadata": {},
   "outputs": [
    {
     "data": {
      "image/png": "[encoded data removed]",
      "text/plain": [
       "<matplotlib.figure.Figure at 0x17215a61d68>"
      ]
     },
     "metadata": {},
     "output_type": "display_data"
    }
   ],
   "source": [
    "movies = 200\n",
    "users = 200\n",
    "score = 6\n",
    "LL = 3\n",
    "UL = 6\n",
    "col = np.empty(0, int)\n",
    "row = np.empty(0, int)\n",
    "for row_ind in range(users):\n",
    "    smovies = np.random.randint(LL, UL)\n",
    "    tcol = np.random.choice(movies, smovies, replace=False)\n",
    "    col = np.append(col, tcol)\n",
    "    trow = np.full(smovies, row_ind)\n",
    "    row = np.append(row, trow)\n",
    "nnz = len(col)\n",
    "scores = np.random.randint(score, size=nnz)\n",
    "mtx = sps.csr_matrix((scores, (row, col)), shape=(users, movies))\n",
    "mtx = mtx.tocsr()    \n",
    "plt.spy(mtx, markersize=0.5)\n",
    "plt.show()"
   ]
  },
  {
   "cell_type": "code",
   "execution_count": null,
   "metadata": {
    "collapsed": true
   },
   "outputs": [],
   "source": []
  }
 ],
 "metadata": {
  "kernelspec": {
   "display_name": "Python 3",
   "language": "python",
   "name": "python3"
  },
  "language_info": {
   "codemirror_mode": {
    "name": "ipython",
    "version": 3
   },
   "file_extension": ".py",
   "mimetype": "text/x-python",
   "name": "python",
   "nbconvert_exporter": "python",
   "pygments_lexer": "ipython3",
   "version": "3.6.3"
  }
 },
 "nbformat": 4,
 "nbformat_minor": 2
}
